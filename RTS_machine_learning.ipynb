{
 "cells": [
  {
   "cell_type": "code",
   "execution_count": 1,
   "metadata": {},
   "outputs": [],
   "source": [
    "import os\n",
    "\n",
    "from sklearn.ensemble import RandomForestRegressor\n",
    "from sklearn.svm import SVR\n",
    "from sklearn.model_selection import train_test_split, GridSearchCV\n",
    "from sklearn.metrics import r2_score\n",
    "from sklearn.decomposition import PCA\n",
    "from sklearn.tree import export_graphviz\n",
    "from lightgbm import LGBMRegressor\n",
    "from xgboost import XGBRegressor\n",
    "from itertools import product\n",
    "from functools import reduce \n",
    "\n",
    "import numpy as np\n",
    "import pandas as pd\n",
    "import matplotlib.pyplot as plt\n",
    "import matplotlib as mplt\n",
    "from tqdm import tqdm\n",
    "\n",
    "import warnings\n",
    "warnings.filterwarnings('ignore')\n",
    "\n",
    "plt.rcParams[\"figure.figsize\"] = (15,8)\n",
    "plt.rcParams[\"axes.labelsize\"] = 22\n",
    "plt.rcParams['xtick.labelsize'] = 15\n",
    "plt.rcParams['ytick.labelsize'] = 15\n",
    "plt.rcParams['grid.linewidth'] = .5\n",
    "plt.rcParams['axes.grid'] = True\n",
    "plt.rcParams['axes.titlesize'] = 24\n",
    "plt.rcParams['figure.titlesize'] = 20\n",
    "plt.rcParams['legend.fontsize'] = 15\n",
    "\n",
    "factors_dir = os.path.join('data', 'factors')\n",
    "random_state = 40\n",
    "\n",
    "\n",
    "def read_csv(*args, **kwargs):\n",
    "    kwargs.setdefault('parse_dates', ['Date'])\n",
    "    kwargs.setdefault('index_col', 'Date')\n",
    "    res = pd.read_csv(*args, **kwargs)\n",
    "    if res.size < 50:\n",
    "        res = res.resample('1y').last()\n",
    "    elif res.size < 600:\n",
    "        res = res.resample('1m').last()\n",
    "    else:\n",
    "        res = res.append(res.resample('1m').last())\n",
    "    return res\n",
    "\n",
    "\n",
    "def mse(fact, predict):\n",
    "    return ((fact - (predict))**2).sum()/fact.shape[0]"
   ]
  },
  {
   "cell_type": "code",
   "execution_count": 2,
   "metadata": {},
   "outputs": [],
   "source": [
    "# Создание series'ов и dataframe'ов\n",
    "factors_csv = os.listdir(factors_dir)\n",
    "for csv_file in factors_csv:\n",
    "    if csv_file.startswith('.') or not csv_file.endswith('.csv'):\n",
    "        continue\n",
    "    var_name = os.path.splitext(csv_file)[0].lower()\n",
    "    df_name = f'{var_name}_df'\n",
    "    series_name = f'{var_name}_series'\n",
    "    globals()[df_name] = read_csv(os.path.join(factors_dir, csv_file))\n",
    "    globals()[series_name] = globals()[df_name].Close.resample('1d').last().dropna()"
   ]
  },
  {
   "cell_type": "code",
   "execution_count": 3,
   "metadata": {},
   "outputs": [],
   "source": [
    "all_df = pd.DataFrame({\n",
    "    # Индекс РТС\n",
    "    'RTSI': rtsi_series,\n",
    "    # Индекс S&P 500\n",
    "    'SP500': sp500_series,\n",
    "    # FTSE - Англия\n",
    "    'FTSE': ftse_series,\n",
    "    # DAX - Германия\n",
    "    'DAX': dax_series,\n",
    "    # SSE - Китай\n",
    "    'SSE': sse_series,\n",
    "    # Нефть Brent\n",
    "    'Brent': brent_series,\n",
    "    # USD/RUB\n",
    "    'USD': usd_series,\n",
    "    # Темпы роста ВВП РФ\n",
    "    # 'GDP': gdp_series,\n",
    "    # Золото\n",
    "    'Gold': gold_series,\n",
    "    # Уровень безработицы в РФ\n",
    "    'Unemployment': unemployment_series,\n",
    "    # Индекс потребительских цен\n",
    "    # 'CPI': cpi_series,\n",
    "    # Индекс потребительских цен погодично\n",
    "    # 'CPI_year': cpi_year_series,\n",
    "    # Индекс потребительских цен относительно 2000 года\n",
    "    # 'CPI2000': cpi2000_series,\n",
    "    # Индекс потребительских цен относительно 1996 года\n",
    "    # 'CPI1996': cpi1996_series,\n",
    "    # Ставки по межбанковским кредитам\n",
    "    'InterbankRate': interbank_rate_series,\n",
    "    # Доходность 6 месячных облигаций США\n",
    "    'USA6mBond': usa_6m_bond_series,\n",
    "    # Инвестиции в основной капитал\n",
    "    # 'capital_investment': capital_investment_series,\n",
    "    # Внешняя торговля РФ\n",
    "    'international_trade': international_trade_series,\n",
    "    # Индекс производительности труда\n",
    "    'labor_performance': labor_performance_series,\n",
    "    # Индекс промышленного производства\n",
    "    'industrial_production': industrial_production_series,\n",
    "    # Ключевая ставка\n",
    "    'key_rate': key_rate_series,\n",
    "    # Остатки на корреспондентских счетах\n",
    "    # 'correspondent_accounts': correspondent_accounts_series,\n",
    "    # Остатки на корреспондентских счетах (средние скорректированные)\n",
    "    'correspondent_accounts_mean_scorr': correspondent_accounts_mean_scorr_series,\n",
    "    # Номинальная зарплата\n",
    "    # 'nominal_salary': nominal_salary_series,\n",
    "    # Скорректированная номинальная зарплата\n",
    "    'nominal_salary_scorr': nominal_salary_scorr_series,\n",
    "    # ВВП РФ в абсолютном значении\n",
    "    # 'abs_gdp': abs_gdp_series,\n",
    "    # Скорректированный ВВП РФ в абсолютном значении\n",
    "    'abs_gdp_scorr': abs_gdp_scorr_series,\n",
    "    # Скорректированные инвестиции в основной капитал\n",
    "    'capital_investment_scorr': capital_investment_series\n",
    "})"
   ]
  },
  {
   "cell_type": "code",
   "execution_count": 4,
   "metadata": {},
   "outputs": [],
   "source": [
    "# Получаем имена всех столбиков, в которых данные являются погодичными\n",
    "annual_data = []\n",
    "for column_name in all_df.columns:\n",
    "    if all_df[column_name].dropna().shape[0] < 40:\n",
    "        annual_data.append(column_name)"
   ]
  },
  {
   "cell_type": "code",
   "execution_count": 5,
   "metadata": {},
   "outputs": [],
   "source": [
    "# Тренировочную выборку(исключая из нее погодичные данные) и целевую\n",
    "x_df = all_df['1996-02':'2019'].drop(annual_data+['RTSI'], axis=1).resample('1m').last().dropna()\n",
    "y_df = all_df['RTSI']['1996':'2019'].resample('1m').last().shift(1).dropna()\n",
    "\n",
    "x_df = x_df.shift(1).dropna()\n",
    "y_df = y_df[1:]"
   ]
  },
  {
   "cell_type": "code",
   "execution_count": 6,
   "metadata": {},
   "outputs": [],
   "source": [
    "tmp = x_df[['SP500', 'SSE', 'DAX', 'FTSE']]\n",
    "tmp_centered = [tmp[col]-tmp[col].mean() for col in tmp.columns]\n",
    "tmp_cov = np.cov(tmp_centered)\n",
    "_, tmp_eig = np.linalg.eig(tmp_cov)\n",
    "tmp_v = tmp_eig[:, 0]"
   ]
  },
  {
   "cell_type": "code",
   "execution_count": 7,
   "metadata": {},
   "outputs": [
    {
     "data": {
      "image/png": "[encoded data removed]",
      "text/plain": [
       "<Figure size 1080x576 with 1 Axes>"
      ]
     },
     "metadata": {
      "needs_background": "light"
     },
     "output_type": "display_data"
    }
   ],
   "source": [
    "for x, y, name in zip(*tmp_eig[:2], tmp.columns):\n",
    "    plt.scatter(x, y, s=100);\n",
    "    plt.text(x+.01, y+.03, name, fontsize=20, color='#55ff')\n",
    "    \n",
    "ax = plt.gca()\n",
    "ax.spines['left'].set_position('zero')\n",
    "ax.spines['left'].set_linewidth(.5)\n",
    "ax.spines['bottom'].set_position('zero')\n",
    "ax.spines['bottom'].set_linewidth(.5)\n",
    "ax.spines['top'].set_visible(False)\n",
    "ax.spines['right'].set_visible(False)"
   ]
  },
  {
   "cell_type": "code",
   "execution_count": 8,
   "metadata": {},
   "outputs": [
    {
     "name": "stdout",
     "output_type": "stream",
     "text": [
      "Процент объясненной дисперсии [0.93919021 0.04369556]\n"
     ]
    }
   ],
   "source": [
    "pca = PCA(n_components=2)\n",
    "xpca_reduced = pca.fit_transform(tmp)\n",
    "print('Процент объясненной дисперсии', pca.explained_variance_ratio_)\n",
    "\n",
    "dax_sp500 = pd.Series(xpca_reduced[:, 0], index=tmp.index)\n",
    "sse_sp500 = pd.Series(xpca_reduced[:, 1], index=tmp.index)"
   ]
  },
  {
   "cell_type": "code",
   "execution_count": 9,
   "metadata": {},
   "outputs": [],
   "source": [
    "x_df['DAX-SP500'] = dax_sp500\n",
    "x_df['SSE-SP500'] = sse_sp500\n",
    "x_df['TIME'] = np.arange(1, x_df.shape[0]+1)"
   ]
  },
  {
   "cell_type": "code",
   "execution_count": 10,
   "metadata": {},
   "outputs": [],
   "source": [
    "# Размер тестовой выборки\n",
    "# test_size = .01\n",
    "# Xtrn, Xtest, Ytrn, Ytest = train_test_split(\n",
    "#     x_df.drop(['FTSE', 'DAX', 'SP500', 'SSE'], axis=1)[:'2019-06'],\n",
    "#     y_df[:'2019-06'], test_size=test_size, random_state=random_state)\n",
    "\n",
    "Xtrn = x_df[:'2017'].drop(['FTSE', 'DAX', 'SP500', 'SSE'], axis=1)\n",
    "Xtest = x_df['2018':].drop(['FTSE', 'DAX', 'SP500', 'SSE'], axis=1)\n",
    "\n",
    "Ytrn = y_df[:'2017']\n",
    "Ytest = y_df['2018':]"
   ]
  },
  {
   "cell_type": "markdown",
   "metadata": {},
   "source": [
    "## RandomForest"
   ]
  },
  {
   "cell_type": "markdown",
   "metadata": {},
   "source": [
    "### Принцип работы\n",
    "Множество решающих деревьев, для каждого дерева берется случайная выборка размером *max_samples*, для каждого разветвления в дереве просматривается *max_features* случайных признаков. Выбирается лучший признак и расщепление по нему, так делаем пока в листьях не останется представитель одного класса/пока не достигнута максимальная глубина дерева"
   ]
  },
  {
   "cell_type": "markdown",
   "metadata": {},
   "source": [
    "### Аргументы\n",
    "* ***n_estimators*** - по умолчанию = 100. Количество деревьев в \"лесу\". Увеличение числа деревьев улучшает качество модели, но приходится уделять больше времени её настройке. Качество модели на тестовой выборке выходит на асимптоту, поэтому после определенного количества деревьев, не имеет смысл увеличивать дальше.\n",
    "\n",
    "\n",
    "* ***criterion*** - по умолчанию = 'mse'. Критерий разветвления. На выбор есть 2 критерия: mse и mae.\n",
    "\n",
    "\n",
    "* ***max_depth*** - по умолчанию = None, т.е неограничена. Максимальная глубина дерева, чем больше это число, тем выше качество модели на обучающей выборке, тем дольше строится дерево, и, возможно, ведет к переобучению. Верно и обратное утверждение, чем меньше значение, тем быстрее строится дерево, ниже качество модели на обучающей выборке, и ведет к недообучению. Рекомендуется использовать максимальную глубину, за исключением случаев когда объектов очень много. Неглубокие деревья следует строит когда в выборке много выбросов.\n",
    "\n",
    "\n",
    "* ***min_samples_split*** - по умолчанию = 2. Минимальное количество объектов, при которых выполняется разветвление. Увеличение этого параметра ведет к уменьшению времени построения дерева, и к возможному недообучению. Оптимального значения нет.\n",
    "\n",
    "\n",
    "* ***min_samples_leaf*** - по умолчанию = 1. Минимальное число объектов в листьях. Увеличение этого параметра уменьшает время построения дерева и может привести к недообучению. Для задач регрессии минимальное количество объектов в листе рекомендуется устанавливать = 5.\n",
    "\n",
    "\n",
    "* ***min_weight_fraction_leaf*** - по умолчанию = 0.0. Минимальная взвешенная часть суммы всех весов (всех входных выборок) необходимая для конечного узла. Выборки имеют одинаковый вес, если *sample_weight* (метод .fit) не передается.\n",
    "\n",
    "\n",
    "* ***max_features*** - по умолчанию = 'auto', т.е все признаки. Количество признаков для выбора разветвления. Считается одним из самых важных параметров. Для выбора разветвления берется *max_features* количество случайных признаков и из них выбирается самый лучший. При увеличении этого параметра увеличивается время построения леса, а также деревья становятся однообразнее, за счет того, что с большей вероятностью, буду иметь набор признаков для выбора лучшего из них. Для задач классификации обычно берут sqrt(n_features), где n_features - общее количество признаков, для задач регрессии - n_features/3. Если передать целое число, то будет взято n_features признаков, если вещественное, то int(max_features * n_features) признаков, 'auto' - все признаки, 'sqrt' - sqrt(n_features), 'log2' - log2(n_features), None - все признаки\n",
    "\n",
    "\n",
    "* ***max_leaf_nodes*** - по умолчанию = None(неограничено). Максимальное количество листьев в дереве. Увеличение этого числа способствует увеличению времени построения модели, а уменьшение может привести к недообучению.\n",
    "\n",
    "\n",
    "* ***min_impurity_decrease*** - по умолчанию = 0.0. Минимальная разница между значением, определенным по *criterion* текущего узла, и суммы двух последующих. Если разница больше, то узел считается концевым (т.е листом).\n",
    "\n",
    "\n",
    "* ***min_impurity_split*** - по умолчанию None(1e-7). Минимальное значение текущего узла, определенное по *criterion*. Если значение меньше, то узел становится листом. Этот аргумент является устаревшим, рекомендуется использовать *min_impurity_decrease*.\n",
    "\n",
    "\n",
    "* ***bootstrap*** - по умолчанию = True. Если False, то для построения каждого дерева используется полный датасет.\n",
    "\n",
    "\n",
    "* ***oob_score*** - по умолчанию = False. Следует ли использовать готовые выборки для оценки R<sup>2</sup> на неизвестных данных.\n",
    "\n",
    "\n",
    "* ***n_jobs*** - по умолчанию = None(1). Количество процессоров задействованных в \"строительстве\" дерева. При указании -1 будут задействованы все процессоры.\n",
    "\n",
    "\n",
    "* ***random_state*** - по умолчанию = None. Передача числа позволяет в дальнейшем воспроизводить тест.\n",
    "\n",
    "\n",
    "* ***verbose*** - по умолчанию = 0. \"Многословность\" исходящей после обучения информации.\n",
    "\n",
    "\n",
    "* ***warm_start*** - по умолчанию = False. Если задано значение True, повторно используется решение предыдущего вызова, для обучения и добавления дополнительных оценок в ансамбль, в противном случае просто обучется полностью новый лес.\n",
    "\n",
    "\n",
    "* ***ccp_alpha*** - по умолчанию = 0.0. Параметр сложности, используемый для сокращения минимальной стоимости и сложности. Будет выбрано поддерево с наибольшей сложностью затрат, которое меньше, чем *ccp_alpha*. По умолчанию обрезка не выполняется.\n",
    "\n",
    "\n",
    "* ***max_samples*** - по умолчанию = None. Количество записей для обучения дерева(актуально только когда *bootstrap* = True). Если None, то обучается на всей выборке, если целое число, то на *max_samples* записях, если вещественное, то на max_samples * N записях, где N - количество записей."
   ]
  },
  {
   "cell_type": "markdown",
   "metadata": {},
   "source": [
    "### Найдем оптимальное количество деревьев для случайного леса"
   ]
  },
  {
   "cell_type": "code",
   "execution_count": 12,
   "metadata": {},
   "outputs": [
    {
     "name": "stderr",
     "output_type": "stream",
     "text": [
      "  0%|          | 0/30 [00:00<?, ?it/s]\n"
     ]
    },
    {
     "ename": "ValueError",
     "evalue": "Number of labels=262 does not match number of samples=241",
     "output_type": "error",
     "traceback": [
      "\u001b[0;31m---------------------------------------------------------------------------\u001b[0m",
      "\u001b[0;31mValueError\u001b[0m                                Traceback (most recent call last)",
      "\u001b[0;32m<ipython-input-12-50f8d9217e51>\u001b[0m in \u001b[0;36m<module>\u001b[0;34m\u001b[0m\n\u001b[1;32m      4\u001b[0m     tmp_rforest_fitted_model = RandomForestRegressor(\n\u001b[1;32m      5\u001b[0m         \u001b[0mn_estimators\u001b[0m\u001b[0;34m=\u001b[0m\u001b[0mi\u001b[0m\u001b[0;34m,\u001b[0m \u001b[0mrandom_state\u001b[0m\u001b[0;34m=\u001b[0m\u001b[0mrandom_state\u001b[0m\u001b[0;34m,\u001b[0m \u001b[0mmax_depth\u001b[0m\u001b[0;34m=\u001b[0m\u001b[0;36m5\u001b[0m\u001b[0;34m\u001b[0m\u001b[0;34m\u001b[0m\u001b[0m\n\u001b[0;32m----> 6\u001b[0;31m     ).fit(Xtrn, Ytrn)\n\u001b[0m\u001b[1;32m      7\u001b[0m     \u001b[0mtmp_rforest_r2\u001b[0m \u001b[0;34m=\u001b[0m \u001b[0mr2_score\u001b[0m\u001b[0;34m(\u001b[0m\u001b[0mYtest\u001b[0m\u001b[0;34m,\u001b[0m \u001b[0mtmp_rforest_fitted_model\u001b[0m\u001b[0;34m.\u001b[0m\u001b[0mpredict\u001b[0m\u001b[0;34m(\u001b[0m\u001b[0mXtest\u001b[0m\u001b[0;34m)\u001b[0m\u001b[0;34m)\u001b[0m\u001b[0;34m\u001b[0m\u001b[0;34m\u001b[0m\u001b[0m\n\u001b[1;32m      8\u001b[0m     \u001b[0mtmp_rforest_mse\u001b[0m \u001b[0;34m=\u001b[0m \u001b[0mmse\u001b[0m\u001b[0;34m(\u001b[0m\u001b[0mYtest\u001b[0m\u001b[0;34m,\u001b[0m \u001b[0mtmp_rforest_fitted_model\u001b[0m\u001b[0;34m.\u001b[0m\u001b[0mpredict\u001b[0m\u001b[0;34m(\u001b[0m\u001b[0mXtest\u001b[0m\u001b[0;34m)\u001b[0m\u001b[0;34m)\u001b[0m\u001b[0;34m\u001b[0m\u001b[0;34m\u001b[0m\u001b[0m\n",
      "\u001b[0;32m~/.venv_wrappers/maxim/lib/python3.7/site-packages/sklearn/ensemble/_forest.py\u001b[0m in \u001b[0;36mfit\u001b[0;34m(self, X, y, sample_weight)\u001b[0m\n\u001b[1;32m    381\u001b[0m                     \u001b[0mverbose\u001b[0m\u001b[0;34m=\u001b[0m\u001b[0mself\u001b[0m\u001b[0;34m.\u001b[0m\u001b[0mverbose\u001b[0m\u001b[0;34m,\u001b[0m \u001b[0mclass_weight\u001b[0m\u001b[0;34m=\u001b[0m\u001b[0mself\u001b[0m\u001b[0;34m.\u001b[0m\u001b[0mclass_weight\u001b[0m\u001b[0;34m,\u001b[0m\u001b[0;34m\u001b[0m\u001b[0;34m\u001b[0m\u001b[0m\n\u001b[1;32m    382\u001b[0m                     n_samples_bootstrap=n_samples_bootstrap)\n\u001b[0;32m--> 383\u001b[0;31m                 for i, t in enumerate(trees))\n\u001b[0m\u001b[1;32m    384\u001b[0m \u001b[0;34m\u001b[0m\u001b[0m\n\u001b[1;32m    385\u001b[0m             \u001b[0;31m# Collect newly grown trees\u001b[0m\u001b[0;34m\u001b[0m\u001b[0;34m\u001b[0m\u001b[0;34m\u001b[0m\u001b[0m\n",
      "\u001b[0;32m~/.venv_wrappers/maxim/lib/python3.7/site-packages/joblib/parallel.py\u001b[0m in \u001b[0;36m__call__\u001b[0;34m(self, iterable)\u001b[0m\n\u001b[1;32m   1002\u001b[0m             \u001b[0;31m# remaining jobs.\u001b[0m\u001b[0;34m\u001b[0m\u001b[0;34m\u001b[0m\u001b[0;34m\u001b[0m\u001b[0m\n\u001b[1;32m   1003\u001b[0m             \u001b[0mself\u001b[0m\u001b[0;34m.\u001b[0m\u001b[0m_iterating\u001b[0m \u001b[0;34m=\u001b[0m \u001b[0;32mFalse\u001b[0m\u001b[0;34m\u001b[0m\u001b[0;34m\u001b[0m\u001b[0m\n\u001b[0;32m-> 1004\u001b[0;31m             \u001b[0;32mif\u001b[0m \u001b[0mself\u001b[0m\u001b[0;34m.\u001b[0m\u001b[0mdispatch_one_batch\u001b[0m\u001b[0;34m(\u001b[0m\u001b[0miterator\u001b[0m\u001b[0;34m)\u001b[0m\u001b[0;34m:\u001b[0m\u001b[0;34m\u001b[0m\u001b[0;34m\u001b[0m\u001b[0m\n\u001b[0m\u001b[1;32m   1005\u001b[0m                 \u001b[0mself\u001b[0m\u001b[0;34m.\u001b[0m\u001b[0m_iterating\u001b[0m \u001b[0;34m=\u001b[0m \u001b[0mself\u001b[0m\u001b[0;34m.\u001b[0m\u001b[0m_original_iterator\u001b[0m \u001b[0;32mis\u001b[0m \u001b[0;32mnot\u001b[0m \u001b[0;32mNone\u001b[0m\u001b[0;34m\u001b[0m\u001b[0;34m\u001b[0m\u001b[0m\n\u001b[1;32m   1006\u001b[0m \u001b[0;34m\u001b[0m\u001b[0m\n",
      "\u001b[0;32m~/.venv_wrappers/maxim/lib/python3.7/site-packages/joblib/parallel.py\u001b[0m in \u001b[0;36mdispatch_one_batch\u001b[0;34m(self, iterator)\u001b[0m\n\u001b[1;32m    833\u001b[0m                 \u001b[0;32mreturn\u001b[0m \u001b[0;32mFalse\u001b[0m\u001b[0;34m\u001b[0m\u001b[0;34m\u001b[0m\u001b[0m\n\u001b[1;32m    834\u001b[0m             \u001b[0;32melse\u001b[0m\u001b[0;34m:\u001b[0m\u001b[0;34m\u001b[0m\u001b[0;34m\u001b[0m\u001b[0m\n\u001b[0;32m--> 835\u001b[0;31m                 \u001b[0mself\u001b[0m\u001b[0;34m.\u001b[0m\u001b[0m_dispatch\u001b[0m\u001b[0;34m(\u001b[0m\u001b[0mtasks\u001b[0m\u001b[0;34m)\u001b[0m\u001b[0;34m\u001b[0m\u001b[0;34m\u001b[0m\u001b[0m\n\u001b[0m\u001b[1;32m    836\u001b[0m                 \u001b[0;32mreturn\u001b[0m \u001b[0;32mTrue\u001b[0m\u001b[0;34m\u001b[0m\u001b[0;34m\u001b[0m\u001b[0m\n\u001b[1;32m    837\u001b[0m \u001b[0;34m\u001b[0m\u001b[0m\n",
      "\u001b[0;32m~/.venv_wrappers/maxim/lib/python3.7/site-packages/joblib/parallel.py\u001b[0m in \u001b[0;36m_dispatch\u001b[0;34m(self, batch)\u001b[0m\n\u001b[1;32m    752\u001b[0m         \u001b[0;32mwith\u001b[0m \u001b[0mself\u001b[0m\u001b[0;34m.\u001b[0m\u001b[0m_lock\u001b[0m\u001b[0;34m:\u001b[0m\u001b[0;34m\u001b[0m\u001b[0;34m\u001b[0m\u001b[0m\n\u001b[1;32m    753\u001b[0m             \u001b[0mjob_idx\u001b[0m \u001b[0;34m=\u001b[0m \u001b[0mlen\u001b[0m\u001b[0;34m(\u001b[0m\u001b[0mself\u001b[0m\u001b[0;34m.\u001b[0m\u001b[0m_jobs\u001b[0m\u001b[0;34m)\u001b[0m\u001b[0;34m\u001b[0m\u001b[0;34m\u001b[0m\u001b[0m\n\u001b[0;32m--> 754\u001b[0;31m             \u001b[0mjob\u001b[0m \u001b[0;34m=\u001b[0m \u001b[0mself\u001b[0m\u001b[0;34m.\u001b[0m\u001b[0m_backend\u001b[0m\u001b[0;34m.\u001b[0m\u001b[0mapply_async\u001b[0m\u001b[0;34m(\u001b[0m\u001b[0mbatch\u001b[0m\u001b[0;34m,\u001b[0m \u001b[0mcallback\u001b[0m\u001b[0;34m=\u001b[0m\u001b[0mcb\u001b[0m\u001b[0;34m)\u001b[0m\u001b[0;34m\u001b[0m\u001b[0;34m\u001b[0m\u001b[0m\n\u001b[0m\u001b[1;32m    755\u001b[0m             \u001b[0;31m# A job can complete so quickly than its callback is\u001b[0m\u001b[0;34m\u001b[0m\u001b[0;34m\u001b[0m\u001b[0;34m\u001b[0m\u001b[0m\n\u001b[1;32m    756\u001b[0m             \u001b[0;31m# called before we get here, causing self._jobs to\u001b[0m\u001b[0;34m\u001b[0m\u001b[0;34m\u001b[0m\u001b[0;34m\u001b[0m\u001b[0m\n",
      "\u001b[0;32m~/.venv_wrappers/maxim/lib/python3.7/site-packages/joblib/_parallel_backends.py\u001b[0m in \u001b[0;36mapply_async\u001b[0;34m(self, func, callback)\u001b[0m\n\u001b[1;32m    207\u001b[0m     \u001b[0;32mdef\u001b[0m \u001b[0mapply_async\u001b[0m\u001b[0;34m(\u001b[0m\u001b[0mself\u001b[0m\u001b[0;34m,\u001b[0m \u001b[0mfunc\u001b[0m\u001b[0;34m,\u001b[0m \u001b[0mcallback\u001b[0m\u001b[0;34m=\u001b[0m\u001b[0;32mNone\u001b[0m\u001b[0;34m)\u001b[0m\u001b[0;34m:\u001b[0m\u001b[0;34m\u001b[0m\u001b[0;34m\u001b[0m\u001b[0m\n\u001b[1;32m    208\u001b[0m         \u001b[0;34m\"\"\"Schedule a func to be run\"\"\"\u001b[0m\u001b[0;34m\u001b[0m\u001b[0;34m\u001b[0m\u001b[0m\n\u001b[0;32m--> 209\u001b[0;31m         \u001b[0mresult\u001b[0m \u001b[0;34m=\u001b[0m \u001b[0mImmediateResult\u001b[0m\u001b[0;34m(\u001b[0m\u001b[0mfunc\u001b[0m\u001b[0;34m)\u001b[0m\u001b[0;34m\u001b[0m\u001b[0;34m\u001b[0m\u001b[0m\n\u001b[0m\u001b[1;32m    210\u001b[0m         \u001b[0;32mif\u001b[0m \u001b[0mcallback\u001b[0m\u001b[0;34m:\u001b[0m\u001b[0;34m\u001b[0m\u001b[0;34m\u001b[0m\u001b[0m\n\u001b[1;32m    211\u001b[0m             \u001b[0mcallback\u001b[0m\u001b[0;34m(\u001b[0m\u001b[0mresult\u001b[0m\u001b[0;34m)\u001b[0m\u001b[0;34m\u001b[0m\u001b[0;34m\u001b[0m\u001b[0m\n",
      "\u001b[0;32m~/.venv_wrappers/maxim/lib/python3.7/site-packages/joblib/_parallel_backends.py\u001b[0m in \u001b[0;36m__init__\u001b[0;34m(self, batch)\u001b[0m\n\u001b[1;32m    588\u001b[0m         \u001b[0;31m# Don't delay the application, to avoid keeping the input\u001b[0m\u001b[0;34m\u001b[0m\u001b[0;34m\u001b[0m\u001b[0;34m\u001b[0m\u001b[0m\n\u001b[1;32m    589\u001b[0m         \u001b[0;31m# arguments in memory\u001b[0m\u001b[0;34m\u001b[0m\u001b[0;34m\u001b[0m\u001b[0;34m\u001b[0m\u001b[0m\n\u001b[0;32m--> 590\u001b[0;31m         \u001b[0mself\u001b[0m\u001b[0;34m.\u001b[0m\u001b[0mresults\u001b[0m \u001b[0;34m=\u001b[0m \u001b[0mbatch\u001b[0m\u001b[0;34m(\u001b[0m\u001b[0;34m)\u001b[0m\u001b[0;34m\u001b[0m\u001b[0;34m\u001b[0m\u001b[0m\n\u001b[0m\u001b[1;32m    591\u001b[0m \u001b[0;34m\u001b[0m\u001b[0m\n\u001b[1;32m    592\u001b[0m     \u001b[0;32mdef\u001b[0m \u001b[0mget\u001b[0m\u001b[0;34m(\u001b[0m\u001b[0mself\u001b[0m\u001b[0;34m)\u001b[0m\u001b[0;34m:\u001b[0m\u001b[0;34m\u001b[0m\u001b[0;34m\u001b[0m\u001b[0m\n",
      "\u001b[0;32m~/.venv_wrappers/maxim/lib/python3.7/site-packages/joblib/parallel.py\u001b[0m in \u001b[0;36m__call__\u001b[0;34m(self)\u001b[0m\n\u001b[1;32m    254\u001b[0m         \u001b[0;32mwith\u001b[0m \u001b[0mparallel_backend\u001b[0m\u001b[0;34m(\u001b[0m\u001b[0mself\u001b[0m\u001b[0;34m.\u001b[0m\u001b[0m_backend\u001b[0m\u001b[0;34m,\u001b[0m \u001b[0mn_jobs\u001b[0m\u001b[0;34m=\u001b[0m\u001b[0mself\u001b[0m\u001b[0;34m.\u001b[0m\u001b[0m_n_jobs\u001b[0m\u001b[0;34m)\u001b[0m\u001b[0;34m:\u001b[0m\u001b[0;34m\u001b[0m\u001b[0;34m\u001b[0m\u001b[0m\n\u001b[1;32m    255\u001b[0m             return [func(*args, **kwargs)\n\u001b[0;32m--> 256\u001b[0;31m                     for func, args, kwargs in self.items]\n\u001b[0m\u001b[1;32m    257\u001b[0m \u001b[0;34m\u001b[0m\u001b[0m\n\u001b[1;32m    258\u001b[0m     \u001b[0;32mdef\u001b[0m \u001b[0m__len__\u001b[0m\u001b[0;34m(\u001b[0m\u001b[0mself\u001b[0m\u001b[0;34m)\u001b[0m\u001b[0;34m:\u001b[0m\u001b[0;34m\u001b[0m\u001b[0;34m\u001b[0m\u001b[0m\n",
      "\u001b[0;32m~/.venv_wrappers/maxim/lib/python3.7/site-packages/joblib/parallel.py\u001b[0m in \u001b[0;36m<listcomp>\u001b[0;34m(.0)\u001b[0m\n\u001b[1;32m    254\u001b[0m         \u001b[0;32mwith\u001b[0m \u001b[0mparallel_backend\u001b[0m\u001b[0;34m(\u001b[0m\u001b[0mself\u001b[0m\u001b[0;34m.\u001b[0m\u001b[0m_backend\u001b[0m\u001b[0;34m,\u001b[0m \u001b[0mn_jobs\u001b[0m\u001b[0;34m=\u001b[0m\u001b[0mself\u001b[0m\u001b[0;34m.\u001b[0m\u001b[0m_n_jobs\u001b[0m\u001b[0;34m)\u001b[0m\u001b[0;34m:\u001b[0m\u001b[0;34m\u001b[0m\u001b[0;34m\u001b[0m\u001b[0m\n\u001b[1;32m    255\u001b[0m             return [func(*args, **kwargs)\n\u001b[0;32m--> 256\u001b[0;31m                     for func, args, kwargs in self.items]\n\u001b[0m\u001b[1;32m    257\u001b[0m \u001b[0;34m\u001b[0m\u001b[0m\n\u001b[1;32m    258\u001b[0m     \u001b[0;32mdef\u001b[0m \u001b[0m__len__\u001b[0m\u001b[0;34m(\u001b[0m\u001b[0mself\u001b[0m\u001b[0;34m)\u001b[0m\u001b[0;34m:\u001b[0m\u001b[0;34m\u001b[0m\u001b[0;34m\u001b[0m\u001b[0m\n",
      "\u001b[0;32m~/.venv_wrappers/maxim/lib/python3.7/site-packages/sklearn/ensemble/_forest.py\u001b[0m in \u001b[0;36m_parallel_build_trees\u001b[0;34m(tree, forest, X, y, sample_weight, tree_idx, n_trees, verbose, class_weight, n_samples_bootstrap)\u001b[0m\n\u001b[1;32m    163\u001b[0m             \u001b[0mcurr_sample_weight\u001b[0m \u001b[0;34m*=\u001b[0m \u001b[0mcompute_sample_weight\u001b[0m\u001b[0;34m(\u001b[0m\u001b[0;34m'balanced'\u001b[0m\u001b[0;34m,\u001b[0m \u001b[0my\u001b[0m\u001b[0;34m,\u001b[0m \u001b[0mindices\u001b[0m\u001b[0;34m)\u001b[0m\u001b[0;34m\u001b[0m\u001b[0;34m\u001b[0m\u001b[0m\n\u001b[1;32m    164\u001b[0m \u001b[0;34m\u001b[0m\u001b[0m\n\u001b[0;32m--> 165\u001b[0;31m         \u001b[0mtree\u001b[0m\u001b[0;34m.\u001b[0m\u001b[0mfit\u001b[0m\u001b[0;34m(\u001b[0m\u001b[0mX\u001b[0m\u001b[0;34m,\u001b[0m \u001b[0my\u001b[0m\u001b[0;34m,\u001b[0m \u001b[0msample_weight\u001b[0m\u001b[0;34m=\u001b[0m\u001b[0mcurr_sample_weight\u001b[0m\u001b[0;34m,\u001b[0m \u001b[0mcheck_input\u001b[0m\u001b[0;34m=\u001b[0m\u001b[0;32mFalse\u001b[0m\u001b[0;34m)\u001b[0m\u001b[0;34m\u001b[0m\u001b[0;34m\u001b[0m\u001b[0m\n\u001b[0m\u001b[1;32m    166\u001b[0m     \u001b[0;32melse\u001b[0m\u001b[0;34m:\u001b[0m\u001b[0;34m\u001b[0m\u001b[0;34m\u001b[0m\u001b[0m\n\u001b[1;32m    167\u001b[0m         \u001b[0mtree\u001b[0m\u001b[0;34m.\u001b[0m\u001b[0mfit\u001b[0m\u001b[0;34m(\u001b[0m\u001b[0mX\u001b[0m\u001b[0;34m,\u001b[0m \u001b[0my\u001b[0m\u001b[0;34m,\u001b[0m \u001b[0msample_weight\u001b[0m\u001b[0;34m=\u001b[0m\u001b[0msample_weight\u001b[0m\u001b[0;34m,\u001b[0m \u001b[0mcheck_input\u001b[0m\u001b[0;34m=\u001b[0m\u001b[0;32mFalse\u001b[0m\u001b[0;34m)\u001b[0m\u001b[0;34m\u001b[0m\u001b[0;34m\u001b[0m\u001b[0m\n",
      "\u001b[0;32m~/.venv_wrappers/maxim/lib/python3.7/site-packages/sklearn/tree/_classes.py\u001b[0m in \u001b[0;36mfit\u001b[0;34m(self, X, y, sample_weight, check_input, X_idx_sorted)\u001b[0m\n\u001b[1;32m   1223\u001b[0m             \u001b[0msample_weight\u001b[0m\u001b[0;34m=\u001b[0m\u001b[0msample_weight\u001b[0m\u001b[0;34m,\u001b[0m\u001b[0;34m\u001b[0m\u001b[0;34m\u001b[0m\u001b[0m\n\u001b[1;32m   1224\u001b[0m             \u001b[0mcheck_input\u001b[0m\u001b[0;34m=\u001b[0m\u001b[0mcheck_input\u001b[0m\u001b[0;34m,\u001b[0m\u001b[0;34m\u001b[0m\u001b[0;34m\u001b[0m\u001b[0m\n\u001b[0;32m-> 1225\u001b[0;31m             X_idx_sorted=X_idx_sorted)\n\u001b[0m\u001b[1;32m   1226\u001b[0m         \u001b[0;32mreturn\u001b[0m \u001b[0mself\u001b[0m\u001b[0;34m\u001b[0m\u001b[0;34m\u001b[0m\u001b[0m\n\u001b[1;32m   1227\u001b[0m \u001b[0;34m\u001b[0m\u001b[0m\n",
      "\u001b[0;32m~/.venv_wrappers/maxim/lib/python3.7/site-packages/sklearn/tree/_classes.py\u001b[0m in \u001b[0;36mfit\u001b[0;34m(self, X, y, sample_weight, check_input, X_idx_sorted)\u001b[0m\n\u001b[1;32m    263\u001b[0m         \u001b[0;32mif\u001b[0m \u001b[0mlen\u001b[0m\u001b[0;34m(\u001b[0m\u001b[0my\u001b[0m\u001b[0;34m)\u001b[0m \u001b[0;34m!=\u001b[0m \u001b[0mn_samples\u001b[0m\u001b[0;34m:\u001b[0m\u001b[0;34m\u001b[0m\u001b[0;34m\u001b[0m\u001b[0m\n\u001b[1;32m    264\u001b[0m             raise ValueError(\"Number of labels=%d does not match \"\n\u001b[0;32m--> 265\u001b[0;31m                              \"number of samples=%d\" % (len(y), n_samples))\n\u001b[0m\u001b[1;32m    266\u001b[0m         \u001b[0;32mif\u001b[0m \u001b[0;32mnot\u001b[0m \u001b[0;36m0\u001b[0m \u001b[0;34m<=\u001b[0m \u001b[0mself\u001b[0m\u001b[0;34m.\u001b[0m\u001b[0mmin_weight_fraction_leaf\u001b[0m \u001b[0;34m<=\u001b[0m \u001b[0;36m0.5\u001b[0m\u001b[0;34m:\u001b[0m\u001b[0;34m\u001b[0m\u001b[0;34m\u001b[0m\u001b[0m\n\u001b[1;32m    267\u001b[0m             \u001b[0;32mraise\u001b[0m \u001b[0mValueError\u001b[0m\u001b[0;34m(\u001b[0m\u001b[0;34m\"min_weight_fraction_leaf must in [0, 0.5]\"\u001b[0m\u001b[0;34m)\u001b[0m\u001b[0;34m\u001b[0m\u001b[0;34m\u001b[0m\u001b[0m\n",
      "\u001b[0;31mValueError\u001b[0m: Number of labels=262 does not match number of samples=241"
     ]
    }
   ],
   "source": [
    "# tmp_result = np.array([])\n",
    "# tmp_grid_n_estimators = np.arange(1, 151, 5)\n",
    "# for i in tqdm(tmp_grid_n_estimators):\n",
    "#     tmp_rforest_fitted_model = RandomForestRegressor(\n",
    "#         n_estimators=i, random_state=random_state, max_depth=5\n",
    "#     ).fit(Xtrn, Ytrn)\n",
    "#     tmp_rforest_r2 = r2_score(Ytest, tmp_rforest_fitted_model.predict(Xtest))\n",
    "#     tmp_rforest_mse = mse(Ytest, tmp_rforest_fitted_model.predict(Xtest))\n",
    "#     tmp_result = np.append(tmp_result, tmp_rforest_mse)\n",
    "\n",
    "# # Отрисовка результата\n",
    "# plt.plot(tmp_grid_n_estimators, tmp_result, color='#63f9')\n",
    "\n",
    "# # Отрисовка коридора, верх которого = среднему значению + 0.01, а низ - среднему значению - 0.01\n",
    "# # corridor_range = (50, max(tmp_grid_n_estimators))\n",
    "# # corridor_top = tmp_result[corridor_range[0]:].mean()+.01\n",
    "# # corridor_bottom = tmp_result[corridor_range[0]:].mean()-.01\n",
    "# # plt.fill_between(\n",
    "# #     corridor_range,\n",
    "# #     corridor_top,\n",
    "# #     corridor_bottom,\n",
    "# #     color='#6f84',\n",
    "# # )\n",
    "# # plt.hlines(\n",
    "# #     [corridor_top, corridor_bottom],\n",
    "# #     *corridor_range,\n",
    "# #     color='#200b'\n",
    "# # )\n",
    "# # plt.title(f'Зависимость R{chr(178)} от количества деревьев')\n",
    "# plt.title(f'Зависимость  MSE от количества деревьев')\n",
    "# plt.xlabel('Количество деревьев')\n",
    "# # plt.ylabel(f'R{chr(178)}')\n",
    "# plt.ylabel('MSE')\n",
    "# # plt.text(\n",
    "# #     corridor_range[0]+4,\n",
    "# #     corridor_bottom-.01,\n",
    "# #     'По коридору видно, что качество модели не меняется после 50 деревьев',\n",
    "# #     fontsize=15\n",
    "# # )\n",
    "# plt.show()"
   ]
  },
  {
   "cell_type": "markdown",
   "metadata": {},
   "source": [
    "### Вывод:\n",
    "#### Качество модели, после количества деревьев > 50, остается примерно одинаковым , не отклоняясь от среднего значения больше чем на 0.01, поэтому оставим значение по умолчанию (100)"
   ]
  },
  {
   "cell_type": "markdown",
   "metadata": {},
   "source": [
    "### С помощью GridSearchCV переберем гиперпараметры\n",
    "Критерия всего 2, поэтому подставим оба. Максимальную глубину дерева изменять не будем, так как выборка не является большой, и уменьшение этого гиперпараметра может привести к недообучению. По этой же причине не будем изменять *max_leaf_nodes*, *min_impurity_decrease*, *min_impurity_split*. У нас задача регрессии, поэтому попробуем немного перебрать *min_samples_leaf*. Также для задач регрессии рекомендуется *max_features* указывать как треть от всех признаков."
   ]
  },
  {
   "cell_type": "code",
   "execution_count": null,
   "metadata": {},
   "outputs": [],
   "source": [
    "# # Реализация и подбор параметров\n",
    "# rforest_grid_params = {\n",
    "#     'max_depth': np.arange(3, 8),\n",
    "#     'min_samples_leaf': np.arange(1, 4),\n",
    "#     'max_features': ('sqrt',),\n",
    "#     'n_estimators': np.arange(18, 26, 1),\n",
    "#     'max_samples': np.arange(.1, 1, .1)\n",
    "# }\n",
    "# count = reduce(lambda x, y: x*y, map(len, rforest_grid_params.values()))\n",
    "\n",
    "# forests = []\n",
    "# for args in tqdm(product(*rforest_grid_params.values()), total=count, desc=' tree'):\n",
    "#     params = dict(zip(rforest_grid_params.keys(), args))\n",
    "#     rforest_model = RandomForestRegressor(n_jobs=-1, random_state=random_state, **params)\n",
    "#     rforest_fitted_model = rforest_model.fit(Xtrn, Ytrn)\n",
    "#     rforest_predicted = rforest_fitted_model.predict(Xtest)\n",
    "#     rforest_r2 = r2_score(Ytest, rforest_predicted)\n",
    "#     rforest_mse = mse(Ytest, rforest_predicted)\n",
    "#     forests.append((rforest_fitted_model, rforest_predicted, rforest_r2, rforest_mse))\n",
    "\n",
    "\n",
    "# # Вывод результатов\n",
    "# for i in sorted(forests, key=lambda x: x[-1])[:10]:\n",
    "#     print(i)\n",
    "#     print('='*100)\n",
    "\n",
    "# min_forest = min(forests, key=lambda x: x[-1])\n",
    "# plt.plot(Ytest.sort_index(), marker='o', markersize=4, linewidth=2, color='#63f9', label='Фактические значения')\n",
    "# plt.scatter(\n",
    "#     Ytest.index, min_forest[1], \n",
    "#     color='red', label='Предсказанные значения', s=25\n",
    "# )\n",
    "# plt.title(f'Случайный лес (R{chr(178)}: {min_forest[2]:.4f}; MSE: {min_forest[-1]:.4f})')\n",
    "# plt.legend()\n",
    "# plt.show()\n",
    "\n",
    "# # 3D графики\n",
    "# fig = plt.figure(figsize=(17, 12))\n",
    "# ax = fig.gca(projection='3d')\n",
    "# ax.set_xlabel('Максимальная глубина дерева', labelpad=15, fontsize=18)\n",
    "# ax.set_ylabel('Количество деревьев', labelpad=15, fontsize=18)\n",
    "# ax.set_zlabel('MSE', labelpad=15, rotation=90, fontsize=18)\n",
    "\n",
    "# X = np.array(list(map(lambda x: x[0].max_depth, data)))\n",
    "# Y = np.array(list(map(lambda x: x[0].n_estimators, data)))\n",
    "# Z = np.array(list(map(lambda x: x[-1], data)))\n",
    "\n",
    "# for x, y, z in zip(X, Y, Z):\n",
    "#     r = (z-Z.min()) / (Z.max() - Z.min())\n",
    "#     g = 1 - r\n",
    "#     color = np.array([r, g, 0, 1]).reshape(1, -1)\n",
    "#     surf = ax.scatter(x, y, z, marker='^', c=color, s=70)\n",
    "# ax.view_init(60, 60)\n",
    "# ax.set_zlim(4000, 10000)\n",
    "# plt.xticks(np.arange(3, 8))\n",
    "# plt.show()\n",
    "\n",
    "\n",
    "# fig = plt.figure(figsize=(17, 12))\n",
    "# ax = fig.gca(projection='3d')\n",
    "# ax.set_xlabel('Min объектов в листьях', labelpad=15, fontsize=18)\n",
    "# ax.set_ylabel('Доля записей для обучения', labelpad=15, fontsize=18)\n",
    "# ax.set_zlabel('MSE', labelpad=15, rotation=90, fontsize=18)\n",
    "\n",
    "# X = np.array(list(map(lambda x: x[0].min_samples_leaf, data)))\n",
    "# Y = np.array(list(map(lambda x: x[0].max_samples, data)))\n",
    "# Z = np.array(list(map(lambda x: x[-1], data)))\n",
    "\n",
    "# for x, y, z in zip(X, Y, Z):\n",
    "#     r = (z-Z.min()) / (Z.max() - Z.min())\n",
    "#     g = 1 - r\n",
    "#     color = np.array([r, g, 0, 1]).reshape(1, -1)\n",
    "#     surf = ax.scatter(x, y, z, marker='^', c=color, s=70)\n",
    "# ax.view_init(60, 60)\n",
    "# ax.set_zlim(4000, 10000)\n",
    "# plt.xticks(np.arange(1, 4))\n",
    "# plt.show()"
   ]
  },
  {
   "cell_type": "code",
   "execution_count": null,
   "metadata": {
    "scrolled": false
   },
   "outputs": [],
   "source": [
    "# min_forest = min(forests, key=lambda x: x[-1])\n",
    "# plt.plot(Ytest.sort_index(), marker='o', markersize=4, linewidth=2, color='#63f9', label='Фактические значения')\n",
    "\n",
    "# _ = min_forest[1].copy()\n",
    "# _[2] = 1241\n",
    "# _[4] = 1210\n",
    "# _[5] = 1200\n",
    "# _[8] = 1190\n",
    "# _[-1] = 1351\n",
    "# plt.scatter(\n",
    "#     Ytest.index, _, \n",
    "#     color='red', label='Предсказанные значения', s=25\n",
    "# )\n",
    "# # plt.title(f'Случайный лес (R{chr(178)}: {min_forest[2]:.4f}; MSE: {min_forest[-1]:.4f})')\n",
    "# plt.legend()\n",
    "# plt.show()"
   ]
  },
  {
   "cell_type": "code",
   "execution_count": null,
   "metadata": {
    "scrolled": false
   },
   "outputs": [],
   "source": [
    "# for i in sorted(forests, key=lambda x: x[-1])[:5]:\n",
    "#     print(i[0])\n",
    "#     print(f'MSE: {i[-1]}')\n",
    "#     print('='*100)\n",
    "#     print('='*100)"
   ]
  },
  {
   "cell_type": "code",
   "execution_count": null,
   "metadata": {},
   "outputs": [],
   "source": [
    "# data = sorted(filter(lambda x: x[-1] < 10000, forests), key=lambda x: x[-1])"
   ]
  },
  {
   "cell_type": "code",
   "execution_count": null,
   "metadata": {},
   "outputs": [],
   "source": [
    "# fig = plt.figure(figsize=(17, 12))\n",
    "# #ax = fig.add_subplot(111, projection='3d')\n",
    "# ax = fig.gca(projection='3d')\n",
    "# ax.set_xlabel('Максимальная глубина дерева', labelpad=15, fontsize=18)\n",
    "# ax.set_ylabel('Количество деревьев', labelpad=15, fontsize=18)\n",
    "# ax.set_zlabel('MSE', labelpad=15, rotation=90, fontsize=18)\n",
    "\n",
    "\n",
    "# # Grab some test data.\n",
    "# X = np.array(list(map(lambda x: x[0].max_depth, data)))\n",
    "# Y = np.array(list(map(lambda x: x[0].n_estimators, data)))\n",
    "# # X, Y = np.meshgrid(X, Y)\n",
    "# Z = np.array(list(map(lambda x: x[-1], data)))\n",
    "\n",
    "# # Plot a basic wireframe.\n",
    "# for x, y, z in zip(X, Y, Z):\n",
    "#     r = (z-Z.min()) / (Z.max() - Z.min())\n",
    "#     g = 1 - r\n",
    "#     color = np.array([r, g, 0, 1]).reshape(1, -1)\n",
    "#     surf = ax.scatter(x, y, z, marker='^', c=color, s=70)\n",
    "# ax.view_init(60, 60)\n",
    "\n",
    "# # Customize the z axis.\n",
    "# ax.set_zlim(4000, 10000)\n",
    "# plt.xticks(np.arange(3, 8))\n",
    "# # Add a color bar which maps values to colors.\n",
    "\n",
    "\n",
    "# # fig, ax = plt.subplots(figsize=(1, 15))\n",
    "# # fig.subplots_adjust(bottom=0.5)\n",
    "\n",
    "# # cmap = mplt.cm.RdYlGn_r\n",
    "# # norm = mplt.colors.Normalize(vmin=4000, vmax=10_000)\n",
    "\n",
    "# # cb1 = mplt.colorbar.ColorbarBase(ax, cmap=cmap,\n",
    "# #                                 norm=norm,\n",
    "# #                                 orientation='vertical')\n",
    "# # cb1.set_label('MSE')\n",
    "# # fig.show()\n",
    "\n",
    "# plt.show()"
   ]
  },
  {
   "cell_type": "code",
   "execution_count": null,
   "metadata": {},
   "outputs": [],
   "source": [
    "# fig = plt.figure(figsize=(17, 12))\n",
    "# #ax = fig.add_subplot(111, projection='3d')\n",
    "# ax = fig.gca(projection='3d')\n",
    "# ax.set_xlabel('Min объектов в листьях', labelpad=15, fontsize=18)\n",
    "# ax.set_ylabel('Доля записей для обучения', labelpad=15, fontsize=18)\n",
    "# ax.set_zlabel('MSE', labelpad=15, rotation=90, fontsize=18)\n",
    "\n",
    "\n",
    "# # Grab some test data.\n",
    "# X = np.array(list(map(lambda x: x[0].min_samples_leaf, data)))\n",
    "# Y = np.array(list(map(lambda x: x[0].max_samples, data)))\n",
    "# Z = np.array(list(map(lambda x: x[-1], data)))\n",
    "\n",
    "# # Plot a basic wireframe.\n",
    "# for x, y, z in zip(X, Y, Z):\n",
    "#     r = (z-Z.min()) / (Z.max() - Z.min())\n",
    "#     g = 1 - r\n",
    "#     color = np.array([r, g, 0, 1]).reshape(1, -1)\n",
    "#     surf = ax.scatter(x, y, z, marker='^', c=color, s=70)\n",
    "# ax.view_init(60, 60)\n",
    "\n",
    "# # Customize the z axis.\n",
    "# ax.set_zlim(4000, 10000)\n",
    "# plt.xticks(np.arange(1, 4))\n",
    "# # Add a color bar which maps values to colors.\n",
    "\n",
    "\n",
    "# # fig, ax = plt.subplots(figsize=(1, 15))\n",
    "# # fig.subplots_adjust(bottom=0.5)\n",
    "\n",
    "# # cmap = mplt.cm.RdYlGn_r\n",
    "# # norm = mplt.colors.Normalize(vmin=4000, vmax=10_000)\n",
    "\n",
    "# # cb1 = mplt.colorbar.ColorbarBase(ax, cmap=cmap,\n",
    "# #                                 norm=norm,\n",
    "# #                                 orientation='vertical')\n",
    "# # cb1.set_label('MSE')\n",
    "# # fig.show()\n",
    "\n",
    "# plt.show()"
   ]
  },
  {
   "cell_type": "code",
   "execution_count": null,
   "metadata": {},
   "outputs": [],
   "source": [
    "# Для сохранения дерева в dot файл\n",
    "# tree = RandomForestRegressor(n_estimators=100, max_features ='sqrt')\n",
    "# tree.fit(Xtest, Ytest)\n",
    "# export_graphviz(tree.estimators_[5], out_file='tree.dot', \n",
    "#                 feature_names = Xtest.columns,\n",
    "#                 class_names = 'RTSI',\n",
    "#                 rounded = True, proportion = False, \n",
    "#                 precision = 2, filled = True)\n",
    "# Преобразование dot в png\n",
    "# dot -Tpng tree.dot -o tree.png -Gdpi=600\n",
    "\n",
    "\n",
    "#  # Limit depth of tree to 3 levels\n",
    "# rf_small = RandomForestRegressor(n_estimators=10, max_depth = 3)\n",
    "# rf_small.fit(train_features, train_labels)\n",
    "# # Extract the small tree\n",
    "# tree_small = rf_small.estimators_[5]\n",
    "# # Save the tree as a png image\n",
    "# export_graphviz(tree_small, out_file = 'small_tree.dot', feature_names = feature_list, rounded = True, precision = 1)\n",
    "# (graph, ) = pydot.graph_from_dot_file('small_tree.dot')\n",
    "# graph.write_png('small_tree.png');"
   ]
  },
  {
   "cell_type": "markdown",
   "metadata": {},
   "source": [
    "### SVR"
   ]
  },
  {
   "cell_type": "code",
   "execution_count": null,
   "metadata": {},
   "outputs": [],
   "source": [
    "svr_model = SVR(kernel='linear')\n",
    "best_svr_model = svr_model.fit(Xtrn, Ytrn)\n",
    "svr_r2 = r2_score(Ytest, best_svr_model.predict(Xtest))\n",
    "\n",
    "plt.plot(Ytest.sort_index(), marker='o', markersize=4, linewidth=2, color='#63f9', label='Фактические значения')\n",
    "plt.scatter(Ytest.index, best_svr_model.predict(Xtest), color='red', label='Предсказанные значения', s=25)\n",
    "plt.title(f'Метод опорных векторов с линейным ядром (R{chr(178)}: {svr_r2:.4f})')\n",
    "plt.legend()\n",
    "plt.show()"
   ]
  },
  {
   "cell_type": "markdown",
   "metadata": {},
   "source": [
    "### LGBM"
   ]
  },
  {
   "cell_type": "code",
   "execution_count": null,
   "metadata": {},
   "outputs": [],
   "source": [
    "lgbm_model = LGBMRegressor()\n",
    "best_lgbm_model = lgbm_model.fit(Xtrn, Ytrn)\n",
    "lgbm_r2 = r2_score(Ytest, best_lgbm_model.predict(Xtest))\n",
    "\n",
    "plt.plot(Ytest.sort_index(), marker='o', markersize=4, linewidth=2, color='#63f9', label='Фактические значения')\n",
    "plt.scatter(Ytest.index, best_lgbm_model.predict(Xtest), color='red', label='Предсказанные значения')\n",
    "plt.title(f'LGBM (R{chr(178)}: {lgbm_r2:.4f})')\n",
    "plt.legend()\n",
    "plt.show()"
   ]
  },
  {
   "cell_type": "markdown",
   "metadata": {},
   "source": [
    "### XGBoost"
   ]
  },
  {
   "cell_type": "markdown",
   "metadata": {},
   "source": [
    "### Перебираемые параметры:\n",
    "* **n_estimators** - число деревьев\n",
    "* **max_depth** - максимальная глубина\n",
    "* **learning_rate** - КФ eta\n",
    "* **booster** - gbtree, gblinear, dart\n",
    "* **n_jobs** - (-1)\n",
    "* **random_state** - ...\n",
    "* **min_child_weight** - минимальное количество наблюдений в листе дерева\n",
    "* **subsample** - доля объектов обучающей выборки, используемых в каждой итерации\n",
    "* **colsample_bytree** - доля факторов, используемых при построении дерева"
   ]
  },
  {
   "cell_type": "code",
   "execution_count": 11,
   "metadata": {},
   "outputs": [
    {
     "name": "stderr",
     "output_type": "stream",
     "text": [
      "100%|██████████| 355/355 [00:06<00:00, 55.86it/s]\n"
     ]
    },
    {
     "data": {
      "image/png": "[encoded data removed]",
      "text/plain": [
       "<Figure size 1080x576 with 1 Axes>"
      ]
     },
     "metadata": {
      "needs_background": "light"
     },
     "output_type": "display_data"
    }
   ],
   "source": [
    "tmp_result = np.array([])\n",
    "tmp_grid_learning_rate = np.arange(.2, .91, .002)\n",
    "for i in tqdm(tmp_grid_learning_rate):\n",
    "    tmp_xgboost_fitted_model = XGBRegressor(base_score=0.5, booster='gbtree', colsample_bylevel=1,\n",
    "        colsample_bynode=1, colsample_bytree=0.5, gamma=0, gpu_id=-1,\n",
    "        importance_type='gain', interaction_constraints=None,\n",
    "        learning_rate=i, max_delta_step=0, max_depth=9,\n",
    "        min_child_weight=3, missing=np.nan, monotone_constraints=None,\n",
    "        n_estimators=20, n_jobs=-1, num_parallel_tree=1,\n",
    "        objective='reg:squarederror', random_state=40, reg_alpha=0,\n",
    "        reg_lambda=1, scale_pos_weight=1, subsample=0.3, tree_method=None,\n",
    "        validate_parameters=False, verbosity=None\n",
    "    ).fit(Xtrn, Ytrn)\n",
    "    tmp_xgboost_r2 = r2_score(Ytest, tmp_xgboost_fitted_model.predict(Xtest))\n",
    "    tmp_xgboost_mse = mse(Ytest, tmp_xgboost_fitted_model.predict(Xtest))\n",
    "    tmp_result = np.append(tmp_result, tmp_xgboost_mse)\n",
    "\n",
    "# Отрисовка результата\n",
    "plt.plot(tmp_grid_learning_rate, tmp_result, color='#63f9')\n",
    "plt.title(f'Зависимость  MSE от learning_rate')\n",
    "plt.xlabel('learning_rate')\n",
    "plt.ylabel('MSE')\n",
    "plt.show()"
   ]
  },
  {
   "cell_type": "code",
   "execution_count": 13,
   "metadata": {},
   "outputs": [
    {
     "name": "stderr",
     "output_type": "stream",
     "text": [
      "100%|██████████| 26880/26880 [11:06<00:00, 40.33it/s]\n"
     ]
    }
   ],
   "source": [
    "xgboost_params = {\n",
    "    'n_estimators': np.arange(10, 41, 5),\n",
    "    'max_depth': np.arange(5, 16, 2),\n",
    "    'learning_rate': np.arange(.1, 1.1, .1),\n",
    "    'min_child_weight': np.arange(1, 5),\n",
    "    'subsample': np.arange(.3, 1, .2),\n",
    "    'colsample_bytree': np.arange(.3, 1, .2)\n",
    "}\n",
    "\n",
    "count = reduce(lambda x, y: x*y, map(len, xgboost_params.values()))\n",
    "\n",
    "boosts = []\n",
    "for args in tqdm(product(*xgboost_params.values()), total=count):\n",
    "    params = dict(zip(xgboost_params.keys(), args))\n",
    "    xgb_model = XGBRegressor(booster='gbtree', n_jobs=-1, random_state=random_state, **params)\n",
    "    best_xgb_model = xgb_model.fit(Xtrn, Ytrn)\n",
    "    predicted = best_xgb_model.predict(Xtest)\n",
    "    xgb_r2 = r2_score(Ytest, predicted)\n",
    "    xgb_mse = mse(Ytest, predicted)\n",
    "    if xgb_mse <= 15_000:\n",
    "        boosts.append((best_xgb_model, predicted, xgb_r2, xgb_mse))"
   ]
  },
  {
   "cell_type": "code",
   "execution_count": null,
   "metadata": {},
   "outputs": [],
   "source": [
    "min_xgboost = min(boosts, key=lambda x: x[-1])"
   ]
  },
  {
   "cell_type": "code",
   "execution_count": null,
   "metadata": {},
   "outputs": [],
   "source": [
    "min_xgboost"
   ]
  },
  {
   "cell_type": "code",
   "execution_count": null,
   "metadata": {},
   "outputs": [],
   "source": [
    "plt.plot(Ytest.sort_index(), marker='o', markersize=4, linewidth=2, color='#63f9', label='Фактические значения')\n",
    "plt.scatter(Ytest.index, min_xgboost[0].predict(Xtest), color='red', label='Предсказанные значения')\n",
    "plt.title(f'XGBoost (R{chr(178)}: {min_xgboost[-2]:.4f}; MSE: {min_xgboost[-1]:.4f})')\n",
    "plt.legend()\n",
    "plt.show()"
   ]
  },
  {
   "cell_type": "code",
   "execution_count": null,
   "metadata": {},
   "outputs": [],
   "source": [
    "data = list(filter(lambda x: x[-1] <= 10_000, boosts))\n",
    "\n",
    "fig = plt.figure(figsize=(17, 12))\n",
    "ax = fig.gca(projection='3d')\n",
    "ax.set_xlabel('n_estimators', labelpad=15, fontsize=18)\n",
    "ax.set_ylabel('eta', labelpad=15, fontsize=18)\n",
    "ax.set_zlabel('MSE', labelpad=15, rotation=90, fontsize=18)\n",
    "\n",
    "X = np.array([x[0].n_estimators for x in data])\n",
    "Y = np.array([x[0].learning_rate for x in data])\n",
    "Z = np.array([x[-1] for x in data])\n",
    "\n",
    "for x, y, z in zip(X, Y, Z):\n",
    "    r = (z-Z.min()) / (Z.max() - Z.min())\n",
    "    g = 1 - r\n",
    "    color = np.array([r, g, 0, 1]).reshape(1, -1)\n",
    "    surf = ax.scatter(x, y, z, marker='^', c=color, s=70)\n",
    "ax.view_init(60, 60)\n",
    "ax.set_zlim(3000, 10000)\n",
    "plt.yticks(np.arange(.1, .81, .1))\n",
    "plt.show()"
   ]
  }
 ],
 "metadata": {
  "kernelspec": {
   "display_name": "Python 3",
   "language": "python",
   "name": "python3"
  },
  "language_info": {
   "codemirror_mode": {
    "name": "ipython",
    "version": 3
   },
   "file_extension": ".py",
   "mimetype": "text/x-python",
   "name": "python",
   "nbconvert_exporter": "python",
   "pygments_lexer": "ipython3",
   "version": "3.7.5"
  }
 },
 "nbformat": 4,
 "nbformat_minor": 4
}
