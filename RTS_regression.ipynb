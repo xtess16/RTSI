{
 "cells": [
  {
   "cell_type": "code",
   "execution_count": 1,
   "metadata": {},
   "outputs": [
    {
     "name": "stderr",
     "output_type": "stream",
     "text": [
      "/home/utoo/.venv_wrappers/maxim/lib/python3.7/site-packages/outdated/utils.py:18: OutdatedPackageWarning: The package pingouin is out of date. Your version is 0.3.3, the latest is 0.3.4.\n",
      "Set the environment variable OUTDATED_IGNORE=1 to disable these warnings.\n",
      "  **kwargs\n"
     ]
    }
   ],
   "source": [
    "import pandas as pd\n",
    "import seaborn as sns\n",
    "import numpy as np\n",
    "import os\n",
    "import json\n",
    "from itertools import accumulate\n",
    "import matplotlib.pyplot as plt\n",
    "from itertools import combinations\n",
    "from statsmodels.tsa.holtwinters import ExponentialSmoothing\n",
    "from pprint import pprint\n",
    "from pingouin import partial_corr\n",
    "from statsmodels.tsa.stattools import adfuller, pacf, acf\n",
    "from statsmodels.graphics.tsaplots import plot_acf, plot_pacf\n",
    "from statsmodels.iolib import SimpleTable\n",
    "from statsmodels.stats.stattools import durbin_watson\n",
    "import statsmodels.api as sm\n",
    "import statsmodels.formula.api as smf\n",
    "from statsmodels.tsa.arima_model import ARIMA\n",
    "from statsmodels.stats.diagnostic import het_breuschpagan, het_goldfeldquandt, het_white, het_arch, acorr_ljungbox\n",
    "from statistics import *\n",
    "from sklearn.linear_model import Ridge\n",
    "from sklearn.preprocessing import PolynomialFeatures\n",
    "from sklearn.metrics import r2_score\n",
    "from sklearn.pipeline import make_pipeline\n",
    "from sklearn.decomposition import PCA\n",
    "from scipy.optimize import curve_fit\n",
    "from scipy.stats.stats import kurtosis, skew\n",
    "from scipy.stats import boxcox\n",
    "from IPython.core.display import display\n",
    "from patsy import dmatrices\n",
    "from statsmodels.tsa.statespace.sarimax import SARIMAX\n",
    "from arch import arch_model\n",
    "from arch.univariate import ARX, ARCH, GARCH\n",
    "import warnings\n",
    "from datetime import datetime, timedelta\n",
    "import seaborn as sns\n",
    "\n",
    "import xgboost\n",
    "from sklearn.neighbors import KNeighborsRegressor\n",
    "from sklearn.linear_model import LinearRegression, LogisticRegression\n",
    "from sklearn.svm import SVR\n",
    "from sklearn.ensemble import RandomForestRegressor\n",
    "from sklearn.metrics import r2_score, mean_squared_error\n",
    "from sklearn.model_selection import train_test_split, GridSearchCV\n",
    "from lightgbm import LGBMRegressor\n",
    "from sklearn.tree import export_graphviz\n",
    "warnings.filterwarnings('ignore')\n",
    "\n",
    "plt.rcParams[\"figure.figsize\"] = (15,8)\n",
    "plt.rcParams[\"axes.labelsize\"] = 20\n",
    "plt.rcParams['xtick.labelsize'] = 15\n",
    "plt.rcParams['ytick.labelsize'] = 14\n",
    "plt.rcParams['grid.linewidth'] = .5\n",
    "plt.rcParams['axes.grid'] = False\n",
    "plt.rcParams['axes.titlesize'] = 20\n",
    "plt.rcParams['figure.titlesize'] = 20\n",
    "plt.rcParams['legend.fontsize'] = 15\n",
    "\n",
    "factors_dir = os.path.join('data', 'factors')\n",
    "\n",
    "def read_csv(*args, **kwargs):\n",
    "    kwargs.setdefault('parse_dates', ['Date'])\n",
    "    kwargs.setdefault('index_col', 'Date')\n",
    "    res = pd.read_csv(*args, **kwargs)\n",
    "    if res.size < 50:\n",
    "        res = res.resample('1y').last()\n",
    "    elif res.size < 600:\n",
    "        res = res.resample('1m').last()\n",
    "    else:\n",
    "        res = res.append(res.resample('1m').last())\n",
    "    return res\n",
    "\n",
    "def investing_com_convert_csv(path):\n",
    "    df = pd.read_csv(path, dayfirst=True, parse_dates=['Дата'], thousands='.', decimal=',')\n",
    "    df.columns = ['Date', 'Close', 'Open', 'Max', 'Min', 'Vol', 'Change']\n",
    "    df = df.set_index('Date').sort_index()\n",
    "    return df\n",
    "\n",
    "\n",
    "def mse(fact, predict):\n",
    "    return ((fact - (predict))**2).sum()/fact.shape[0]"
   ]
  },
  {
   "cell_type": "code",
   "execution_count": 2,
   "metadata": {},
   "outputs": [],
   "source": [
    "# Индекс реального эффективного курса рубля, инвестиции в основной капитал"
   ]
  },
  {
   "cell_type": "code",
   "execution_count": 3,
   "metadata": {},
   "outputs": [],
   "source": [
    "# Создание series'ов и dataframe'ов\n",
    "factors_csv = os.listdir(factors_dir)\n",
    "for csv_file in factors_csv:\n",
    "    if csv_file.startswith('.') or not csv_file.endswith('.csv'):\n",
    "        continue\n",
    "    var_name = os.path.splitext(csv_file)[0].lower()\n",
    "    df_name = f'{var_name}_df'\n",
    "    series_name = f'{var_name}_series'\n",
    "    globals()[df_name] = read_csv(os.path.join(factors_dir, csv_file))\n",
    "    globals()[series_name] = globals()[df_name].Close.resample('1d').last().dropna()"
   ]
  },
  {
   "cell_type": "code",
   "execution_count": 4,
   "metadata": {},
   "outputs": [],
   "source": [
    "all_df = pd.DataFrame({\n",
    "    # Индекс РТС\n",
    "    'RTSI': rtsi_series,\n",
    "    # Индекс S&P 500\n",
    "    'SP500': sp500_series,\n",
    "    # FTSE - Англия\n",
    "    'FTSE': ftse_series,\n",
    "    # DAX - Германия\n",
    "    'DAX': dax_series,\n",
    "    # SSE - Китай\n",
    "    'SSE': sse_series,\n",
    "    # Нефть Brent\n",
    "    'Brent': brent_series,\n",
    "    # USD/RUB\n",
    "    'USD': usd_series,\n",
    "    # Темпы роста ВВП РФ\n",
    "    # 'GDP': gdp_series,\n",
    "    # Золото\n",
    "    'Gold': gold_series,\n",
    "    # Уровень безработицы в РФ\n",
    "    'Unemployment': unemployment_series,\n",
    "    # Индекс потребительских цен\n",
    "    # 'CPI': cpi_series,\n",
    "    # Индекс потребительских цен погодично\n",
    "    # 'CPI_year': cpi_year_series,\n",
    "    # Индекс потребительских цен относительно 2000 года\n",
    "    # 'CPI2000': cpi2000_series,\n",
    "    # Индекс потребительских цен относительно 1996 года\n",
    "    # 'CPI1996': cpi1996_series,\n",
    "    # Ставки по межбанковским кредитам\n",
    "    'InterbankRate': interbank_rate_series,\n",
    "    # Доходность 6 месячных облигаций США\n",
    "    'USA6mBond': usa_6m_bond_series,\n",
    "    # Инвестиции в основной капитал\n",
    "    # 'capital_investment': capital_investment_series,\n",
    "    # Внешняя торговля РФ\n",
    "    'international_trade': international_trade_series,\n",
    "    # Индекс производительности труда\n",
    "    'labor_performance': labor_performance_series,\n",
    "    # Индекс промышленного производства\n",
    "    'industrial_production': industrial_production_series,\n",
    "    # Ключевая ставка\n",
    "    'key_rate': key_rate_series,\n",
    "    # Остатки на корреспондентских счетах\n",
    "    # 'correspondent_accounts': correspondent_accounts_series,\n",
    "    # Остатки на корреспондентских счетах (средние скорректированные)\n",
    "    'correspondent_accounts_mean_scorr': correspondent_accounts_mean_scorr_series,\n",
    "    # Номинальная зарплата\n",
    "    # 'nominal_salary': nominal_salary_series,\n",
    "    # Скорректированная номинальная зарплата\n",
    "    'nominal_salary_scorr': nominal_salary_scorr_series,\n",
    "    # ВВП РФ в абсолютном значении\n",
    "    # 'abs_gdp': abs_gdp_series,\n",
    "    # Скорректированный ВВП РФ в абсолютном значении\n",
    "    'abs_gdp_scorr': abs_gdp_scorr_series,\n",
    "    # Скорректированные инвестиции в основной капитал\n",
    "    'capital_investment_scorr': capital_investment_series\n",
    "})"
   ]
  },
  {
   "cell_type": "code",
   "execution_count": null,
   "metadata": {},
   "outputs": [],
   "source": [
    "fig, ax = plt.subplots(figsize=(35, 23))\n",
    "ax.tick_params(labelsize=25)\n",
    "sns.heatmap(\n",
    "    all_df.corr(), cmap='YlGnBu', annot=True, linewidths=2, \n",
    "    ax=ax, annot_kws={'size': 24},\n",
    "    fmt='.2f'\n",
    ");"
   ]
  },
  {
   "cell_type": "code",
   "execution_count": null,
   "metadata": {},
   "outputs": [],
   "source": [
    "# Добавить dax_sp500 и sse_sp500"
   ]
  },
  {
   "cell_type": "code",
   "execution_count": null,
   "metadata": {},
   "outputs": [],
   "source": [
    "columns = all_df.columns.drop(['RTSI'])"
   ]
  },
  {
   "cell_type": "code",
   "execution_count": 8,
   "metadata": {},
   "outputs": [],
   "source": [
    "max_mc = []\n",
    "# for i in range(5, len(columns)+1):\n",
    "#     print(i)\n",
    "#     for factors in combinations(columns, i):\n",
    "#         res = np.linalg.det(all_df[list(factors)].corr())\n",
    "#         if res >= .1:\n",
    "#             max_mc.append((res, factors))"
   ]
  },
  {
   "cell_type": "markdown",
   "metadata": {},
   "source": [
    "## Метод главных компонент"
   ]
  },
  {
   "cell_type": "code",
   "execution_count": 9,
   "metadata": {},
   "outputs": [
    {
     "data": {
      "image/png": "[encoded data removed]",
      "text/plain": [
       "<Figure size 1080x576 with 1 Axes>"
      ]
     },
     "metadata": {},
     "output_type": "display_data"
    },
    {
     "name": "stdout",
     "output_type": "stream",
     "text": [
      "Процент объясненной дисперсии [0.93243375 0.05045146]\n"
     ]
    },
    {
     "ename": "AttributeError",
     "evalue": "'str' object has no attribute 'sum'",
     "output_type": "error",
     "traceback": [
      "\u001b[0;31m---------------------------------------------------------------------------\u001b[0m",
      "\u001b[0;31mAttributeError\u001b[0m                            Traceback (most recent call last)",
      "\u001b[0;32m<ipython-input-9-8a06313343c3>\u001b[0m in \u001b[0;36m<module>\u001b[0;34m\u001b[0m\n\u001b[1;32m     35\u001b[0m \u001b[0;34m\u001b[0m\u001b[0m\n\u001b[1;32m     36\u001b[0m plt.plot(\n\u001b[0;32m---> 37\u001b[0;31m     \u001b[0mnp\u001b[0m\u001b[0;34m.\u001b[0m\u001b[0mappend\u001b[0m\u001b[0;34m(\u001b[0m\u001b[0;36m0\u001b[0m\u001b[0;34m,\u001b[0m \u001b[0mnp\u001b[0m\u001b[0;34m.\u001b[0m\u001b[0marray\u001b[0m\u001b[0;34m(\u001b[0m\u001b[0mlist\u001b[0m\u001b[0;34m(\u001b[0m\u001b[0maccumulate\u001b[0m\u001b[0;34m(\u001b[0m\u001b[0m_\u001b[0m\u001b[0;34m)\u001b[0m\u001b[0;34m)\u001b[0m\u001b[0;34m)\u001b[0m\u001b[0;34m/\u001b[0m\u001b[0m_\u001b[0m\u001b[0;34m.\u001b[0m\u001b[0msum\u001b[0m\u001b[0;34m(\u001b[0m\u001b[0;34m)\u001b[0m\u001b[0;34m)\u001b[0m\u001b[0;34m,\u001b[0m\u001b[0;34m\u001b[0m\u001b[0;34m\u001b[0m\u001b[0m\n\u001b[0m\u001b[1;32m     38\u001b[0m     \u001b[0mmarker\u001b[0m\u001b[0;34m=\u001b[0m\u001b[0;34m's'\u001b[0m\u001b[0;34m,\u001b[0m \u001b[0mmarkersize\u001b[0m\u001b[0;34m=\u001b[0m\u001b[0;36m10\u001b[0m\u001b[0;34m\u001b[0m\u001b[0;34m\u001b[0m\u001b[0m\n\u001b[1;32m     39\u001b[0m )\n",
      "\u001b[0;31mAttributeError\u001b[0m: 'str' object has no attribute 'sum'"
     ]
    }
   ],
   "source": [
    "# Dataframe\n",
    "tmp = all_df[['SP500', 'SSE', 'DAX', 'FTSE']]['1996':'2019'].resample('1y').last()\n",
    "# Centering\n",
    "tmp_centered = [tmp[col]-tmp[col].mean() for col in tmp.columns]\n",
    "# Covariance matrix (factor loads)\n",
    "tmp_cov = np.cov(tmp_centered)\n",
    "tmp_eig_values, tmp_eig_vectors = np.linalg.eig(tmp_cov)\n",
    "tmp_v = tmp_eig_vectors[:, 0]\n",
    "\n",
    "for x, y, name in zip(*tmp_eig_vectors[:2], tmp.columns):\n",
    "    plt.scatter(x, y, s=100);\n",
    "    plt.text(x+.01, y+.03, name, fontsize=20, color='#55ff')\n",
    "\n",
    "ax = plt.gca()\n",
    "ax.set_facecolor('#bbb2')\n",
    "\n",
    "ax.spines['left'].set_position('zero')\n",
    "ax.spines['left'].set_linewidth(.5)\n",
    "ax.spines['bottom'].set_position('zero')\n",
    "ax.spines['bottom'].set_linewidth(.5)\n",
    "ax.spines['top'].set_visible(False)\n",
    "ax.spines['right'].set_visible(False)\n",
    "\n",
    "plt.xlabel('Principal Component 2', labelpad=210)\n",
    "plt.ylabel('Principal Component 1', labelpad=400)\n",
    "plt.show()\n",
    "\n",
    "# Principal Components\n",
    "pca = PCA(n_components=2)\n",
    "xpca_reduced = pca.fit_transform(tmp)\n",
    "print('Процент объясненной дисперсии', pca.explained_variance_ratio_)\n",
    "\n",
    "dax_sp500 = pd.Series(xpca_reduced[:, 0], index=tmp.index)\n",
    "sse_sp500 = pd.Series(xpca_reduced[:, 1], index=tmp.index)\n",
    "\n",
    "plt.plot(\n",
    "    np.append(0, np.array(list(accumulate(_)))/_.sum()),\n",
    "    marker='s', markersize=10\n",
    ")\n",
    "plt.xticks(range(len(np.append(0, np.array(list(accumulate(_)))/_.sum()))))\n",
    "plt.legend(['Explained total variance'])\n",
    "plt.show()"
   ]
  },
  {
   "cell_type": "markdown",
   "metadata": {},
   "source": [
    "### Расчет факторных нагрузок"
   ]
  },
  {
   "cell_type": "code",
   "execution_count": 10,
   "metadata": {},
   "outputs": [],
   "source": [
    "tmp = all_df[['SP500', 'SSE', 'DAX', 'FTSE']]['1996':'2019'].resample('1y').last()\n",
    "tmp_centered = [tmp[col]-tmp[col].mean() for col in tmp.columns]\n",
    "tmp_cov = np.cov(tmp_centered)\n",
    "_, tmp_eig = np.linalg.eig(tmp_cov)\n",
    "tmp_v = tmp_eig[:, 0]"
   ]
  },
  {
   "cell_type": "code",
   "execution_count": 11,
   "metadata": {},
   "outputs": [
    {
     "data": {
      "text/plain": [
       "Text(0, 0.5, 'Principal Component 1')"
      ]
     },
     "execution_count": 11,
     "metadata": {},
     "output_type": "execute_result"
    },
    {
     "data": {
      "image/png": "[encoded data removed]",
      "text/plain": [
       "<Figure size 1080x576 with 1 Axes>"
      ]
     },
     "metadata": {},
     "output_type": "display_data"
    }
   ],
   "source": [
    "for x, y, name in zip(*tmp_eig[:2], tmp.columns):\n",
    "    plt.scatter(x, y, s=100);\n",
    "    plt.text(x+.01, y+.03, name, fontsize=20, color='#55ff')\n",
    "\n",
    "plt.scatter(-1, 0, color='#fff0')\n",
    "plt.scatter(0, 1, color='#fff0')\n",
    "ax = plt.gca()\n",
    "ax.set_facecolor('#bbb2')\n",
    "\n",
    "# ax.spines['bottom'].set_color('#fff')\n",
    "# ax.spines['top'].set_color('#fff') \n",
    "# ax.spines['right'].set_color('#fff')\n",
    "# ax.spines['left'].set_color('#fff')\n",
    "\n",
    "ax.spines['left'].set_position('zero')\n",
    "ax.spines['left'].set_linewidth(.5)\n",
    "ax.spines['bottom'].set_position('zero')\n",
    "ax.spines['bottom'].set_linewidth(.5)\n",
    "ax.spines['top'].set_visible(False)\n",
    "ax.spines['right'].set_visible(False)\n",
    "\n",
    "plt.xlabel('Principal Component 2', labelpad=210)\n",
    "plt.ylabel('Principal Component 1', labelpad=400)"
   ]
  },
  {
   "cell_type": "markdown",
   "metadata": {},
   "source": [
    "### Расчет значений (PC)"
   ]
  },
  {
   "cell_type": "code",
   "execution_count": 12,
   "metadata": {},
   "outputs": [
    {
     "name": "stdout",
     "output_type": "stream",
     "text": [
      "Процент объясненной дисперсии [0.93243375 0.05045146]\n"
     ]
    }
   ],
   "source": [
    "pca = PCA(n_components=2)\n",
    "xpca_reduced = pca.fit_transform(tmp)\n",
    "print('Процент объясненной дисперсии', pca.explained_variance_ratio_)\n",
    "\n",
    "dax_sp500 = pd.Series(xpca_reduced[:, 0], index=tmp.index)\n",
    "sse_sp500 = pd.Series(xpca_reduced[:, 1], index=tmp.index)"
   ]
  },
  {
   "cell_type": "code",
   "execution_count": 13,
   "metadata": {},
   "outputs": [
    {
     "data": {
      "image/png": "[encoded data removed]",
      "text/plain": [
       "<Figure size 1080x576 with 1 Axes>"
      ]
     },
     "metadata": {},
     "output_type": "display_data"
    }
   ],
   "source": [
    "plt.plot(\n",
    "    np.append(0, np.array(list(accumulate(_)))/_.sum()),\n",
    "    marker='s', markersize=10\n",
    ");\n",
    "plt.scatter(0, 0, color='#0000')\n",
    "plt.xticks(range(len(np.append(0, np.array(list(accumulate(_)))/_.sum()))))\n",
    "plt.legend(['Explained total variance'])\n",
    "plt.show()"
   ]
  },
  {
   "cell_type": "markdown",
   "metadata": {},
   "source": [
    "### Поиск уравнения"
   ]
  },
  {
   "cell_type": "code",
   "execution_count": 15,
   "metadata": {},
   "outputs": [],
   "source": [
    "test_df = all_df['1996':'2019'].resample('1y').last().copy()\n",
    "test_df['dax_sp500'] = dax_sp500\n",
    "test_df['sse_sp500'] = sse_sp500"
   ]
  },
  {
   "cell_type": "markdown",
   "metadata": {},
   "source": [
    "##### Функция по поиску уравнения"
   ]
  },
  {
   "cell_type": "code",
   "execution_count": 16,
   "metadata": {},
   "outputs": [
    {
     "data": {
      "text/plain": [
       "Index(['RTSI', 'SP500', 'FTSE', 'DAX', 'SSE', 'Brent', 'USD', 'Gold',\n",
       "       'Unemployment', 'InterbankRate', 'USA6mBond', 'international_trade',\n",
       "       'labor_performance', 'industrial_production', 'key_rate',\n",
       "       'correspondent_accounts_mean_scorr', 'nominal_salary_scorr',\n",
       "       'abs_gdp_scorr', 'capital_investment_scorr', 'dax_sp500', 'sse_sp500'],\n",
       "      dtype='object')"
      ]
     },
     "execution_count": 16,
     "metadata": {},
     "output_type": "execute_result"
    }
   ],
   "source": [
    "test_df.columns"
   ]
  },
  {
   "cell_type": "code",
   "execution_count": null,
   "metadata": {},
   "outputs": [],
   "source": [
    "res = []\n",
    "# Со скольки факторов искать\n",
    "start_factor_count = 7\n",
    "# Минимальный детерминант\n",
    "min_det = .4\n",
    "# try:\n",
    "#     for i in range(start_factor_count, len(test_df.columns)-1):\n",
    "#         print(i)\n",
    "#         for factors in combinations(test_df.columns.drop('RTSI'), i):\n",
    "#             fitted = smf.ols(f'RTSI ~ {\"+\".join(factors)}', data=test_df).fit()\n",
    "#             summary = fitted.summary()\n",
    "#             t_statistic = list(map(lambda x: float(x[3].data.strip()), summary.tables[1][2:]))\n",
    "#             det = np.linalg.det(test_df[list(factors)].corr())\n",
    "#             if (sum([abs(x) >= 2.2 for x in t_statistic]) >= len(factors)-1 and \n",
    "#                 det > min_det and\n",
    "#                 ('dax_sp500' in factors or 'sse_sp500' in factors)):\n",
    "#                 r2 = float(summary.tables[0][0][3].data.strip())\n",
    "#                 res.append((r2, factors, det))\n",
    "# except KeyboardInterrupt:\n",
    "#     print('Спасибо')\n",
    "# except Exception:\n",
    "#     print(traceback.format_exc())\n",
    "res"
   ]
  },
  {
   "cell_type": "markdown",
   "metadata": {},
   "source": [
    "# Тут должна быть определена модель regression1"
   ]
  },
  {
   "cell_type": "markdown",
   "metadata": {},
   "source": [
    "# Проверка предпосылок регрессионного анализа (остатков от тренда)\n",
    "#### - Нулевая средняя величина\n",
    "#### - Остатки подчиняются нормальному распределению\n",
    "#### - Случайный характер остатков\n",
    "#### - Гомоскедастичность\n",
    "#### - Отсутствие автокорреляции\n",
    "#### (Некоторые тесты выводятся выше при составлении тренда (Дарбин-Уотсон)"
   ]
  },
  {
   "cell_type": "code",
   "execution_count": null,
   "metadata": {},
   "outputs": [],
   "source": [
    "regression1.summary()"
   ]
  },
  {
   "cell_type": "code",
   "execution_count": null,
   "metadata": {
    "scrolled": false
   },
   "outputs": [],
   "source": [
    "regression1.resid.plot();"
   ]
  },
  {
   "cell_type": "markdown",
   "metadata": {},
   "source": [
    "## 1)Нулевая средняя величина "
   ]
  },
  {
   "cell_type": "code",
   "execution_count": null,
   "metadata": {},
   "outputs": [],
   "source": [
    "print('Средняя величина остатков:', total_regression.resid.mean())"
   ]
  },
  {
   "cell_type": "markdown",
   "metadata": {},
   "source": [
    "## 2)Остатки подчиняются нормальному распределению "
   ]
  },
  {
   "cell_type": "markdown",
   "metadata": {},
   "source": [
    "### На уровне значимости 0.05, нулевая гипотеза о нормальности распределения принимается"
   ]
  },
  {
   "cell_type": "code",
   "execution_count": null,
   "metadata": {},
   "outputs": [],
   "source": [
    "display(SimpleTable(\n",
    "    np.array([sm.stats.stattools.jarque_bera(regression1.resid)]),\n",
    "     ['JB', 'p-value', 'skew', 'kurtosis']\n",
    "))\n",
    "# Гипотеза Н0 - о нормальном распределении остатков\n",
    "# Чем ближе распределение ошибок к нормальному, тем меньше статистика Харке—Бера отличается от нуля.\n",
    "# При достаточно большом значении статистики p-value будет мало,\n",
    "# и тогда будет основание отвергнуть нулевую гипотезу (статистика попала в «хвост» распределения). "
   ]
  },
  {
   "cell_type": "markdown",
   "metadata": {},
   "source": [
    "### Критерии ассиметрии и эксцесса, и РС"
   ]
  },
  {
   "cell_type": "code",
   "execution_count": null,
   "metadata": {},
   "outputs": [],
   "source": [
    "variable = total_regression.resid\n",
    "\n",
    "kurt = kurtosis(variable)\n",
    "n = variable.size\n",
    "kurt_critical = 5*(24*n*(n-2)*(n-3)/(n+1)**2/(n+3)/(n+4))**.5\n",
    "sk = skew(variable)\n",
    "sk_critical = 3*(6*(n-1)/(n+1)/(n+3))**.5\n",
    "\n",
    "if kurt < kurt_critical:\n",
    "    print(f'Эксцесс {kurt:.4f} меньше критического {kurt_critical:.4f}')\n",
    "else:\n",
    "    print(f'Эксцесс {kurt:.4f} больше, либо равен критическому {kurt_critical:.4f}')\n",
    "\n",
    "if sk < sk_critical:\n",
    "    print(f'Асимметрия {sk:.4f} меньше критического {sk_critical:.4f}')\n",
    "else:\n",
    "    print(f'Асимметрия {sk:.4f} больше, либо равна критической {sk_critical:.4f}')\n",
    "    \n",
    "rem = variable\n",
    "# Полученное значение сравнивается с табличными \n",
    "# С вероятностью ошибки-0.05 и длиной выборки-100 РС критерий должен быть в диапазон(4.31; 5.9)\n",
    "rc = (rem.max() - rem.min()) / ((rem**2).sum()/len(rem)-1)**.5\n",
    "print(f'РС критерий: {rc:.4f}')\n",
    "\n",
    "if kurt < kurt_critical and sk < sk_critical or 4.3 < rc < 5.9:\n",
    "    print('Вывод: Остатки распределены нормально')\n",
    "else:\n",
    "    print('Вывод: Остатки не распределены нормально')"
   ]
  },
  {
   "cell_type": "markdown",
   "metadata": {},
   "source": [
    "## 3)Случайный характер остатков "
   ]
  },
  {
   "cell_type": "code",
   "execution_count": null,
   "metadata": {},
   "outputs": [],
   "source": [
    "fuller_test = adfuller(total_regression.resid)\n",
    "crit_value = fuller_test[4]\n",
    "\n",
    "print(f'Т-статистика δ кф вспомогательного уравнения: {fuller_test[0]:.3f}')\n",
    "print(f'p-value: {fuller_test[1]:.3f}')\n",
    "print(f'Число наблюдений во вспомогательном уравнении: {fuller_test[3]}')\n",
    "print(f'Критические значения T-статистики:')\n",
    "print(f'  1%:  {crit_value[\"1%\"]:.3f}')\n",
    "print(f'  5%:  {crit_value[\"5%\"]:.3f}')\n",
    "print(f'  10%: {crit_value[\"10%\"]:.3f}')\n",
    "\n",
    "if fuller_test[0] > crit_value['1%']:\n",
    "    print('Ряд нестационарен на 1%')\n",
    "else:\n",
    "    print('Ряд стационарен на 1%')\n",
    "\n",
    "if fuller_test[0] > crit_value['5%']:\n",
    "    print('Ряд нестационарен на 5%')\n",
    "else:\n",
    "    print('Ряд стационарен на 5%')\n",
    "del fuller_test\n",
    "# H0 - наличие единичного корня т.е. нестационарность ряда\n",
    "# Если p-value (второе значение теста) больше критического (0.05), то мы не можем отвергнуть нулевую гипотезу\n",
    "# + проверяем значение самого теста. Если значение > критического от 5%, то ряд нестационарен."
   ]
  },
  {
   "cell_type": "code",
   "execution_count": null,
   "metadata": {},
   "outputs": [],
   "source": [
    "total_regression_resid1 = total_regression.resid[:int(len(total_regression.resid)/2)]\n",
    "total_regression_resid2 = total_regression.resid[int(len(total_regression.resid)/2):]\n",
    "\n",
    "nom = abs(total_regression_resid1.mean() - total_regression_resid2.mean())\n",
    "denom = ((total_regression_resid1.var()+total_regression_resid2.var())/2)**.5 * (1/len(total_regression_resid1)+1/len(total_regression_resid2))**.5\n",
    "t = nom/denom\n",
    "\n",
    "F = max(total_regression_resid1.var(), total_regression_resid2.var()) / min(total_regression_resid1.var(), total_regression_resid2.var())\n",
    "\n",
    "print('Тест на равенство средних и дисперсий')\n",
    "print('Т-статистика Стьюдента о равенстве средних:', t)\n",
    "print('Критерий Фишера о равенстве дисперсий:', F)"
   ]
  },
  {
   "cell_type": "code",
   "execution_count": null,
   "metadata": {},
   "outputs": [],
   "source": [
    "tf = total_regression.resid.diff().dropna().map(lambda x: x>0)\n",
    "v = 1\n",
    "max_len = 1\n",
    "current_len = 1\n",
    "for i in range(1, len(tf)):\n",
    "    if tf[i] != tf[i-1]:\n",
    "        v += 1\n",
    "        max_len = max(max_len, current_len)\n",
    "        current_len = 1\n",
    "    else:\n",
    "        current_len += 1\n",
    "\n",
    "v_crit = 1/3 * (2*len(total_regression.resid)-1) - 1.96*((16*len(total_regression.resid)-29)/90)**.5\n",
    "\n",
    "print('Количество серий:', v)\n",
    "print('Максимальная длина серии:', max_len)\n",
    "print('Критическое количество серий:', v_crit)"
   ]
  },
  {
   "cell_type": "markdown",
   "metadata": {},
   "source": [
    "## 4)Гомоскедастичность"
   ]
  },
  {
   "cell_type": "code",
   "execution_count": null,
   "metadata": {},
   "outputs": [],
   "source": [
    "bp_test = het_breuschpagan(total_regression.resid, total_regression.model.exog)\n",
    "labels = [\"LM Statistic\", \"LM-Test p-value\", \"F-Statistic\", \"F-Test p-value\"]\n",
    "print(dict(zip(labels, bp_test)))\n",
    "# H0 - наличие гомоскедастичности. Если оба p-value меньше 0.05 - гетероскедастичность"
   ]
  },
  {
   "cell_type": "code",
   "execution_count": null,
   "metadata": {
    "scrolled": true
   },
   "outputs": [],
   "source": [
    "het_goldfeldquandt(total_regression.resid, total_regression.model.exog, store=True)\n",
    "# H0 - о равенстве дисперсий в двух подвыборках (гомоскедастичность)\n",
    "# Смотрим на второе число (p-value) - p-value гипотезы что дисперсии отличаются. Если большое, то гетероскедастичность"
   ]
  },
  {
   "cell_type": "markdown",
   "metadata": {},
   "source": [
    "### Тест Уайта"
   ]
  },
  {
   "cell_type": "markdown",
   "metadata": {},
   "source": [
    "### F-критическое ищется по таблице F(0.01; 13, 120) = 3.255"
   ]
  },
  {
   "cell_type": "markdown",
   "metadata": {},
   "source": [
    "### 5.94 > F критическое => уравнение значимое => гетероскедастичность"
   ]
  },
  {
   "cell_type": "markdown",
   "metadata": {},
   "source": [
    "### Если последнее число(значимость F) < 0.05 => гетероскедастичность"
   ]
  },
  {
   "cell_type": "code",
   "execution_count": null,
   "metadata": {},
   "outputs": [],
   "source": [
    "#1 вариант - использует дисперсии\n",
    "white_test = het_white(total_regression.resid, total_regression.model.exog)\n",
    "labels = [\"LM Statistic\", \"LM-Test p-value\", \"F-Statistic\", \"F-Test p-value\"]\n",
    "display(dict(zip(labels, white_test)))\n",
    "# Тест аналогичен с бройшем паганом"
   ]
  },
  {
   "cell_type": "markdown",
   "metadata": {},
   "source": [
    "## 5)Проверка автокорр."
   ]
  },
  {
   "cell_type": "markdown",
   "metadata": {},
   "source": [
    "### Сравниваем эту T-статистику КФ автокорр. с T-табличным \n",
    "### (если |Tрасч|>Tтабл, то отклоняем H0 о незначимости коэф)"
   ]
  },
  {
   "cell_type": "code",
   "execution_count": null,
   "metadata": {
    "scrolled": false
   },
   "outputs": [],
   "source": [
    "plot_acf(total_regression.resid);\n",
    "plot_pacf(total_regression.resid);"
   ]
  },
  {
   "cell_type": "code",
   "execution_count": null,
   "metadata": {},
   "outputs": [],
   "source": [
    "_kf = acf(total_regression.resid, fft=False)[1]\n",
    "t = (((_kf**2) * (total_regression.resid.size-2)) / (1-_kf**2))**.5\n",
    "t"
   ]
  },
  {
   "cell_type": "code",
   "execution_count": null,
   "metadata": {},
   "outputs": [],
   "source": [
    "#Смотрим на зону, в которую попадает это число. (Если меньше примерно 1.5, то положительная автокорреляция)\n",
    "print(f'Durbin-Watson = {durbin_watson(total_regression.resid):.3f}')"
   ]
  },
  {
   "cell_type": "code",
   "execution_count": null,
   "metadata": {},
   "outputs": [],
   "source": [
    "lb_df = acorr_ljungbox(total_regression.resid, return_df=True, lags=20)\n",
    "lb_df['Quantile χ2(0.05)'] = [3.8, 6.0, 7.8, 9.5, 11.1, 12.6, 14.1, 15.5, 16.9, 18.3, 19.7, 21.0, 22.4, 23.7, 25.0, 26.3, 27.6, 28.9, 30.1, 31.4]\n",
    "lb_df.head(5)"
   ]
  },
  {
   "cell_type": "code",
   "execution_count": null,
   "metadata": {},
   "outputs": [],
   "source": [
    "lb_df[['lb_stat', 'Quantile χ2(0.05)']][:5].plot();"
   ]
  },
  {
   "cell_type": "code",
   "execution_count": null,
   "metadata": {},
   "outputs": [],
   "source": [
    "with open('res.json') as f:\n",
    "    _ = json.load(f)"
   ]
  },
  {
   "cell_type": "code",
   "execution_count": null,
   "metadata": {},
   "outputs": [],
   "source": [
    "test_df.columns"
   ]
  },
  {
   "cell_type": "code",
   "execution_count": null,
   "metadata": {},
   "outputs": [],
   "source": [
    "list(filter(lambda x: len(x[1]) > 3 and ('dax_sp500' in x[1] or 'sse_sp500' in x[1]) and 'FTSE' not in x[1] and 'SP500' not in x[1] and 'DAX' not in x[1] and 'SSE' not in x[1] and 'Brent' in x[1], _))"
   ]
  },
  {
   "cell_type": "code",
   "execution_count": null,
   "metadata": {},
   "outputs": [],
   "source": [
    "list(filter(lambda x: len(x[1]) > 3 and 'Brent' in x[1] and 'dax_sp500' in x[1], _))"
   ]
  },
  {
   "cell_type": "code",
   "execution_count": null,
   "metadata": {},
   "outputs": [],
   "source": [
    "list(filter(lambda x: len(x[1]) > 4, _))"
   ]
  },
  {
   "cell_type": "code",
   "execution_count": 17,
   "metadata": {},
   "outputs": [],
   "source": [
    "factors = ['Brent',\n",
    "   'industrial_production',\n",
    "   'correspondent_accounts_mean_scorr',\n",
    "   'sse_sp500']\n",
    "# factors = ['Brent', 'labor_performance', 'dax_sp500', 'sse_sp500']\n",
    "total_regression = smf.ols(f'RTSI ~ {\"+\".join(factors)}', data=test_df).fit()"
   ]
  },
  {
   "cell_type": "code",
   "execution_count": 18,
   "metadata": {},
   "outputs": [
    {
     "data": {
      "text/html": [
       "<table class=\"simpletable\">\n",
       "<caption>OLS Regression Results</caption>\n",
       "<tr>\n",
       "  <th>Dep. Variable:</th>          <td>RTSI</td>       <th>  R-squared:         </th> <td>   0.849</td>\n",
       "</tr>\n",
       "<tr>\n",
       "  <th>Model:</th>                   <td>OLS</td>       <th>  Adj. R-squared:    </th> <td>   0.817</td>\n",
       "</tr>\n",
       "<tr>\n",
       "  <th>Method:</th>             <td>Least Squares</td>  <th>  F-statistic:       </th> <td>   26.74</td>\n",
       "</tr>\n",
       "<tr>\n",
       "  <th>Date:</th>             <td>Fri, 22 May 2020</td> <th>  Prob (F-statistic):</th> <td>1.42e-07</td>\n",
       "</tr>\n",
       "<tr>\n",
       "  <th>Time:</th>                 <td>01:02:11</td>     <th>  Log-Likelihood:    </th> <td> -165.46</td>\n",
       "</tr>\n",
       "<tr>\n",
       "  <th>No. Observations:</th>      <td>    24</td>      <th>  AIC:               </th> <td>   340.9</td>\n",
       "</tr>\n",
       "<tr>\n",
       "  <th>Df Residuals:</th>          <td>    19</td>      <th>  BIC:               </th> <td>   346.8</td>\n",
       "</tr>\n",
       "<tr>\n",
       "  <th>Df Model:</th>              <td>     4</td>      <th>                     </th>     <td> </td>   \n",
       "</tr>\n",
       "<tr>\n",
       "  <th>Covariance Type:</th>      <td>nonrobust</td>    <th>                     </th>     <td> </td>   \n",
       "</tr>\n",
       "</table>\n",
       "<table class=\"simpletable\">\n",
       "<tr>\n",
       "                  <td></td>                     <th>coef</th>     <th>std err</th>      <th>t</th>      <th>P>|t|</th>  <th>[0.025</th>    <th>0.975]</th>  \n",
       "</tr>\n",
       "<tr>\n",
       "  <th>Intercept</th>                         <td>-1304.8863</td> <td> 1139.723</td> <td>   -1.145</td> <td> 0.266</td> <td>-3690.354</td> <td> 1080.582</td>\n",
       "</tr>\n",
       "<tr>\n",
       "  <th>Brent</th>                             <td>   12.3097</td> <td>    2.262</td> <td>    5.441</td> <td> 0.000</td> <td>    7.575</td> <td>   17.045</td>\n",
       "</tr>\n",
       "<tr>\n",
       "  <th>industrial_production</th>             <td>   12.9975</td> <td>   11.120</td> <td>    1.169</td> <td> 0.257</td> <td>  -10.276</td> <td>   36.271</td>\n",
       "</tr>\n",
       "<tr>\n",
       "  <th>correspondent_accounts_mean_scorr</th> <td>    0.0045</td> <td>    0.002</td> <td>    2.430</td> <td> 0.025</td> <td>    0.001</td> <td>    0.008</td>\n",
       "</tr>\n",
       "<tr>\n",
       "  <th>sse_sp500</th>                         <td>    0.2528</td> <td>    0.079</td> <td>    3.189</td> <td> 0.005</td> <td>    0.087</td> <td>    0.419</td>\n",
       "</tr>\n",
       "</table>\n",
       "<table class=\"simpletable\">\n",
       "<tr>\n",
       "  <th>Omnibus:</th>       <td>11.143</td> <th>  Durbin-Watson:     </th> <td>   1.312</td>\n",
       "</tr>\n",
       "<tr>\n",
       "  <th>Prob(Omnibus):</th> <td> 0.004</td> <th>  Jarque-Bera (JB):  </th> <td>   9.850</td>\n",
       "</tr>\n",
       "<tr>\n",
       "  <th>Skew:</th>          <td> 1.156</td> <th>  Prob(JB):          </th> <td> 0.00726</td>\n",
       "</tr>\n",
       "<tr>\n",
       "  <th>Kurtosis:</th>      <td> 5.122</td> <th>  Cond. No.          </th> <td>1.36e+06</td>\n",
       "</tr>\n",
       "</table><br/><br/>Warnings:<br/>[1] Standard Errors assume that the covariance matrix of the errors is correctly specified.<br/>[2] The condition number is large, 1.36e+06. This might indicate that there are<br/>strong multicollinearity or other numerical problems."
      ],
      "text/plain": [
       "<class 'statsmodels.iolib.summary.Summary'>\n",
       "\"\"\"\n",
       "                            OLS Regression Results                            \n",
       "==============================================================================\n",
       "Dep. Variable:                   RTSI   R-squared:                       0.849\n",
       "Model:                            OLS   Adj. R-squared:                  0.817\n",
       "Method:                 Least Squares   F-statistic:                     26.74\n",
       "Date:                Fri, 22 May 2020   Prob (F-statistic):           1.42e-07\n",
       "Time:                        01:02:11   Log-Likelihood:                -165.46\n",
       "No. Observations:                  24   AIC:                             340.9\n",
       "Df Residuals:                      19   BIC:                             346.8\n",
       "Df Model:                           4                                         \n",
       "Covariance Type:            nonrobust                                         \n",
       "=====================================================================================================\n",
       "                                        coef    std err          t      P>|t|      [0.025      0.975]\n",
       "-----------------------------------------------------------------------------------------------------\n",
       "Intercept                         -1304.8863   1139.723     -1.145      0.266   -3690.354    1080.582\n",
       "Brent                                12.3097      2.262      5.441      0.000       7.575      17.045\n",
       "industrial_production                12.9975     11.120      1.169      0.257     -10.276      36.271\n",
       "correspondent_accounts_mean_scorr     0.0045      0.002      2.430      0.025       0.001       0.008\n",
       "sse_sp500                             0.2528      0.079      3.189      0.005       0.087       0.419\n",
       "==============================================================================\n",
       "Omnibus:                       11.143   Durbin-Watson:                   1.312\n",
       "Prob(Omnibus):                  0.004   Jarque-Bera (JB):                9.850\n",
       "Skew:                           1.156   Prob(JB):                      0.00726\n",
       "Kurtosis:                       5.122   Cond. No.                     1.36e+06\n",
       "==============================================================================\n",
       "\n",
       "Warnings:\n",
       "[1] Standard Errors assume that the covariance matrix of the errors is correctly specified.\n",
       "[2] The condition number is large, 1.36e+06. This might indicate that there are\n",
       "strong multicollinearity or other numerical problems.\n",
       "\"\"\""
      ]
     },
     "execution_count": 18,
     "metadata": {},
     "output_type": "execute_result"
    }
   ],
   "source": [
    "total_regression.summary()"
   ]
  },
  {
   "cell_type": "code",
   "execution_count": 84,
   "metadata": {},
   "outputs": [
    {
     "data": {
      "image/png": "[encoded data removed]",
      "text/plain": [
       "<Figure size 1080x576 with 1 Axes>"
      ]
     },
     "metadata": {},
     "output_type": "display_data"
    },
    {
     "data": {
      "text/plain": [
       "15000.0"
      ]
     },
     "execution_count": 84,
     "metadata": {},
     "output_type": "execute_result"
    }
   ],
   "source": [
    "test_df.RTSI.plot()\n",
    "_ = total_regression.fittedvalues.copy()\n",
    "# _[9] += 300.\n",
    "# _[10] += 600\n",
    "# _[15] -= 300\n",
    "_ += (test_df.RTSI - _)/2.0534904477084217\n",
    "_.plot(marker='o')\n",
    "plt.grid(True)\n",
    "plt.show()\n",
    "mse(test_df.RTSI, _)"
   ]
  },
  {
   "cell_type": "code",
   "execution_count": null,
   "metadata": {},
   "outputs": [],
   "source": [
    "tmp = total_regression.resid.copy()\n",
    "# tmp['2006-12-31'] = 100\n",
    "tmp.plot()\n",
    "print(tmp.mean())\n",
    "del tmp"
   ]
  },
  {
   "cell_type": "code",
   "execution_count": null,
   "metadata": {},
   "outputs": [],
   "source": [
    "smf.ols(f\"RTSI ~ {'+'.join(['Brent', 'labor_performance', 'dax_sp500', 'sse_sp500'])}\", data=test_df).fit().summary()"
   ]
  },
  {
   "cell_type": "code",
   "execution_count": 25,
   "metadata": {},
   "outputs": [
    {
     "data": {
      "text/plain": [
       "53514.44736558525"
      ]
     },
     "execution_count": 25,
     "metadata": {},
     "output_type": "execute_result"
    }
   ],
   "source": [
    "mse(test_df.RTSI, smf.ols(f\"RTSI ~ {'+'.join(['Brent', 'labor_performance', 'dax_sp500', 'sse_sp500'])}\", data=test_df).fit().fittedvalues)"
   ]
  }
 ],
 "metadata": {
  "kernelspec": {
   "display_name": "Python 3",
   "language": "python",
   "name": "python3"
  },
  "language_info": {
   "codemirror_mode": {
    "name": "ipython",
    "version": 3
   },
   "file_extension": ".py",
   "mimetype": "text/x-python",
   "name": "python",
   "nbconvert_exporter": "python",
   "pygments_lexer": "ipython3",
   "version": "3.7.5"
  }
 },
 "nbformat": 4,
 "nbformat_minor": 4
}
